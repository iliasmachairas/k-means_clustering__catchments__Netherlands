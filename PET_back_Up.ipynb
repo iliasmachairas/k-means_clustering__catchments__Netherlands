{
 "cells": [
  {
   "cell_type": "code",
   "execution_count": 1,
   "metadata": {},
   "outputs": [],
   "source": [
    "import numpy as np\n",
    "import pandas as pd\n",
    "import matplotlib.pyplot as plt\n",
    "%matplotlib inline\n",
    "from dateutil.relativedelta import relativedelta"
   ]
  },
  {
   "cell_type": "code",
   "execution_count": 2,
   "metadata": {},
   "outputs": [],
   "source": [
    "def plotling(df,col):\n",
    "    import plotly.graph_objects as go\n",
    "    x = go.Scatter(x=df.index, y=df[col])\n",
    "    fig = go.Figure(x)\n",
    "    fig.show()"
   ]
  },
  {
   "cell_type": "markdown",
   "metadata": {},
   "source": [
    "Estimating PET\n",
    "\n",
    "In order to determine potential evaporation, Penman formula was employed for the case of Leiden. The four required measured parameters were: mean wind speed (m/s),  mean temperature ($^{o}C$), incoming radiation ($J m^{-2}$), and relative humidity (\\%). Measurements were derived by KNMI weather stations\n",
    "\n",
    "\\begin{equation} \n",
    "E_{p} =\\frac{\\frac{s (R_{n}-G) }{\\rho \\lambda}+\\frac{c_{p} \\rho_{a}}{\\rho \\lambda} \\frac{\\left(e_{s}-e_{a}\\right)}{r_{a}}}{s+\\gamma} \\label{eq:Penman} \\tag{1}\n",
    "\\end{equation}\n",
    "where:\n",
    "\n",
    "$E_p$: Penman potential evaporation (m/s) <br/>\n",
    "$R_n $: net radiation on the earth's surface ($J s^{-1} m^{-2}$)  <br/>\n",
    "G: ground heat flux ($J s^{-1} m^{-2}$)<br/>\n",
    "$\\lambda$: latent heat of vaporization (2.45 MJ/kg) <br/>\n",
    "s: slope of saturation vapor pressure-temperature curve ($kPa/^{o}C$) <br/>\n",
    "$c_{p}$: specific heat of air ($1004 \\frac{J}{kg K}$) <br/>\n",
    "$\\rho_\\alpha$: density of air ($1.205 \\frac{kg}{m^{3}}$) <br/>\n",
    "$\\rho$: density of water (1000 $\\frac{kg}{m^{3}}$) <br/>\n",
    "$e_a$: actual vapor pressure in the air at 2m height (kPa) <br/>\n",
    "$e_s$: saturation vapor pressure in the air at 2m height (kPa) <br/>\n",
    "$\\gamma$: psychrometric constant (0.066 $\\frac{kPa}{^{o}C}$) <br/>\n",
    "$r_a$: aerodynamic resistance (s/m) <br/>\n",
    "    \n",
    "\n",
    "Before applying Formula $\\eqref{eq:Penman}$, the following calculations preceded. Aerodynamic resistance was estimated based on Formula $\\eqref{eq:f_u}$ and $\\eqref{eq:r_a}$, where f(u) is an intermediate parameter (${J}/{m^{2}s Pa}$), and u is wind velocity (m/s). The constants $\\rho_\\alpha$, $c_{p}$, and $\\gamma$ were defined above. In Formula $\\eqref{eq:r_a}$, the unit of $\\gamma$ was Pa and not KPa.\n",
    "\n",
    "\\begin{equation} \n",
    "    f(u) = 7.4 \\times 10^{-2} (0.5+0.54u) {\\label{eq:f_u}} \\tag{2}\n",
    "\\end{equation}\n",
    "\n",
    "\\begin{equation} {\\label{eq:r_a}}\n",
    "    r_a = \\frac{\\rho_\\alpha c_{p}}{\\gamma f(u)} \\tag{3}\n",
    "\\end{equation} \n",
    "\n",
    "\n",
    "Subsequently, saturation vapor pressure ($e_{s}$) was estimated based on Formula $\\eqref{eq:e_s}$, where T is temperature ($^{o}C$). Combining it with relative humidity (RH in \\%), the actual vapor pressure was estimated. Formula $\\eqref{eq:e_a}$. Then, the slope of \\`saturation vapor pressure' - \\`temperature' curve was calculated which showed how quickly the dew point (where condensation occurs) could be reached considering the current air temperature. The temperature in Formula (\\ref{eq:slope}) was in $^{o}$C.\n",
    "\n",
    "\\begin{equation} \n",
    "e_{s}(T)=0.61 \\exp \\left(\\frac{19,9 T}{273+T}\\right) \\label{eq:e_s} \\tag{4}\n",
    "\\end{equation}\n",
    "\n",
    "\\begin{equation} \n",
    "e_{a}(T) = \\frac{RH}{e_s} \\label{eq:e_a} \\tag{5}\n",
    "\\end{equation} \n",
    "\n",
    "\\begin{equation} \n",
    "s=\\frac{5430 e_{s}}{(273+T)^{2}}  \\label{eq:slope} \\tag{6}\n",
    "\\end{equation}\n",
    "\n",
    "One of the main parameters which determine evaporation is net radiation which can be calculated by Formula (\\ref{eq:net_radiation}) where, $R_{s, in}$ is shortwave incoming radiation, $R_{s, out}$ is shortwave reflected radiation from the Earth's surface to the atmosphere, $R_{l, in}$ is the longwave incoming radiation which is scattered from the atmosphere (mainly clouds, and greenhouse gases) back to the Earth, and $R_{l, out}$ is the longwave radiation which is not scattered back but is released into the atmosphere. Albedo (r) determines the ratio of $R_{s, out}$ to  $R_{s, in}$ and depends on brightness of the land use; it is dimensionless and varies from 0 (black surface) to 1 (white surface). However, Formula (\\ref{eq:net_radiation}) was not applied since net longwave radiation ($R_{l,n}$) was not estimated. For the calculation of $R_{l,n}$, the percentage of sunshine per hour is required but there was lack of information regarding it. Consequently, an assumption was made that $R_{n} = 0.65R_{s, in}$\n",
    "\n",
    "\\begin{equation} \n",
    "R_{n}=\\left(R_{s, i n}-R_{s, o u t}\\right)-\\left(R_{l, o u t}-R_{l, i n}\\right)=R_{s, i n}-r R_{s, i n}-R_{l, n}=(1-r) R_{s, i n}-R_{l, n} \\label{eq:net_radiation} \\tag{7}\n",
    "\\end{equation}\n",
    "\n",
    "Another assumption was applied too. Considering that cities are built by materials which absorb more radiation compared to rural environment, it was assumed that $G= 0.1 R_n$."
   ]
  },
  {
   "cell_type": "code",
   "execution_count": 29,
   "metadata": {},
   "outputs": [
    {
     "data": {
      "text/html": [
       "<div>\n",
       "<style scoped>\n",
       "    .dataframe tbody tr th:only-of-type {\n",
       "        vertical-align: middle;\n",
       "    }\n",
       "\n",
       "    .dataframe tbody tr th {\n",
       "        vertical-align: top;\n",
       "    }\n",
       "\n",
       "    .dataframe thead th {\n",
       "        text-align: right;\n",
       "    }\n",
       "</style>\n",
       "<table border=\"1\" class=\"dataframe\">\n",
       "  <thead>\n",
       "    <tr style=\"text-align: right;\">\n",
       "      <th></th>\n",
       "      <th>FH</th>\n",
       "      <th>Temp</th>\n",
       "      <th>Q</th>\n",
       "      <th>RH</th>\n",
       "      <th>U</th>\n",
       "      <th>fu</th>\n",
       "      <th>ra</th>\n",
       "      <th>es</th>\n",
       "      <th>ea</th>\n",
       "      <th>delta</th>\n",
       "      <th>Rn</th>\n",
       "      <th>G</th>\n",
       "      <th>rholE_nom</th>\n",
       "      <th>rholE_denom</th>\n",
       "      <th>rholE</th>\n",
       "      <th>E_pot_OW</th>\n",
       "    </tr>\n",
       "    <tr>\n",
       "      <th>combined_date</th>\n",
       "      <th></th>\n",
       "      <th></th>\n",
       "      <th></th>\n",
       "      <th></th>\n",
       "      <th></th>\n",
       "      <th></th>\n",
       "      <th></th>\n",
       "      <th></th>\n",
       "      <th></th>\n",
       "      <th></th>\n",
       "      <th></th>\n",
       "      <th></th>\n",
       "      <th></th>\n",
       "      <th></th>\n",
       "      <th></th>\n",
       "      <th></th>\n",
       "    </tr>\n",
       "  </thead>\n",
       "  <tbody>\n",
       "    <tr>\n",
       "      <th>2011-01-01 00:00:00</th>\n",
       "      <td>4.0</td>\n",
       "      <td>4.9</td>\n",
       "      <td>0.0</td>\n",
       "      <td>0.0</td>\n",
       "      <td>99</td>\n",
       "      <td>0.19684</td>\n",
       "      <td>93.124396</td>\n",
       "      <td>0.866395</td>\n",
       "      <td>0.857731</td>\n",
       "      <td>0.060917</td>\n",
       "      <td>0.0</td>\n",
       "      <td>0.0</td>\n",
       "      <td>0.112557</td>\n",
       "      <td>0.126917</td>\n",
       "      <td>0.886856</td>\n",
       "      <td>0.001303</td>\n",
       "    </tr>\n",
       "    <tr>\n",
       "      <th>2011-01-01 01:00:00</th>\n",
       "      <td>6.0</td>\n",
       "      <td>5.1</td>\n",
       "      <td>0.0</td>\n",
       "      <td>0.0</td>\n",
       "      <td>95</td>\n",
       "      <td>0.27676</td>\n",
       "      <td>66.232859</td>\n",
       "      <td>0.878661</td>\n",
       "      <td>0.834728</td>\n",
       "      <td>0.061691</td>\n",
       "      <td>0.0</td>\n",
       "      <td>0.0</td>\n",
       "      <td>0.802488</td>\n",
       "      <td>0.127691</td>\n",
       "      <td>6.284630</td>\n",
       "      <td>0.009235</td>\n",
       "    </tr>\n",
       "    <tr>\n",
       "      <th>2011-01-01 02:00:00</th>\n",
       "      <td>6.0</td>\n",
       "      <td>5.1</td>\n",
       "      <td>0.0</td>\n",
       "      <td>0.0</td>\n",
       "      <td>92</td>\n",
       "      <td>0.27676</td>\n",
       "      <td>66.232859</td>\n",
       "      <td>0.878661</td>\n",
       "      <td>0.808368</td>\n",
       "      <td>0.061691</td>\n",
       "      <td>0.0</td>\n",
       "      <td>0.0</td>\n",
       "      <td>1.283982</td>\n",
       "      <td>0.127691</td>\n",
       "      <td>10.055407</td>\n",
       "      <td>0.014775</td>\n",
       "    </tr>\n",
       "    <tr>\n",
       "      <th>2011-01-01 03:00:00</th>\n",
       "      <td>5.0</td>\n",
       "      <td>4.9</td>\n",
       "      <td>0.0</td>\n",
       "      <td>0.0</td>\n",
       "      <td>95</td>\n",
       "      <td>0.23680</td>\n",
       "      <td>77.409654</td>\n",
       "      <td>0.866395</td>\n",
       "      <td>0.823075</td>\n",
       "      <td>0.060917</td>\n",
       "      <td>0.0</td>\n",
       "      <td>0.0</td>\n",
       "      <td>0.677035</td>\n",
       "      <td>0.126917</td>\n",
       "      <td>5.334474</td>\n",
       "      <td>0.007838</td>\n",
       "    </tr>\n",
       "    <tr>\n",
       "      <th>2011-01-01 04:00:00</th>\n",
       "      <td>5.0</td>\n",
       "      <td>5.3</td>\n",
       "      <td>0.0</td>\n",
       "      <td>0.0</td>\n",
       "      <td>91</td>\n",
       "      <td>0.23680</td>\n",
       "      <td>77.409654</td>\n",
       "      <td>0.891084</td>\n",
       "      <td>0.810886</td>\n",
       "      <td>0.062473</td>\n",
       "      <td>0.0</td>\n",
       "      <td>0.0</td>\n",
       "      <td>1.253391</td>\n",
       "      <td>0.128473</td>\n",
       "      <td>9.756072</td>\n",
       "      <td>0.014335</td>\n",
       "    </tr>\n",
       "  </tbody>\n",
       "</table>\n",
       "</div>"
      ],
      "text/plain": [
       "                      FH  Temp    Q   RH   U       fu         ra        es  \\\n",
       "combined_date                                                                \n",
       "2011-01-01 00:00:00  4.0   4.9  0.0  0.0  99  0.19684  93.124396  0.866395   \n",
       "2011-01-01 01:00:00  6.0   5.1  0.0  0.0  95  0.27676  66.232859  0.878661   \n",
       "2011-01-01 02:00:00  6.0   5.1  0.0  0.0  92  0.27676  66.232859  0.878661   \n",
       "2011-01-01 03:00:00  5.0   4.9  0.0  0.0  95  0.23680  77.409654  0.866395   \n",
       "2011-01-01 04:00:00  5.0   5.3  0.0  0.0  91  0.23680  77.409654  0.891084   \n",
       "\n",
       "                           ea     delta   Rn    G  rholE_nom  rholE_denom  \\\n",
       "combined_date                                                               \n",
       "2011-01-01 00:00:00  0.857731  0.060917  0.0  0.0   0.112557     0.126917   \n",
       "2011-01-01 01:00:00  0.834728  0.061691  0.0  0.0   0.802488     0.127691   \n",
       "2011-01-01 02:00:00  0.808368  0.061691  0.0  0.0   1.283982     0.127691   \n",
       "2011-01-01 03:00:00  0.823075  0.060917  0.0  0.0   0.677035     0.126917   \n",
       "2011-01-01 04:00:00  0.810886  0.062473  0.0  0.0   1.253391     0.128473   \n",
       "\n",
       "                         rholE  E_pot_OW  \n",
       "combined_date                             \n",
       "2011-01-01 00:00:00   0.886856  0.001303  \n",
       "2011-01-01 01:00:00   6.284630  0.009235  \n",
       "2011-01-01 02:00:00  10.055407  0.014775  \n",
       "2011-01-01 03:00:00   5.334474  0.007838  \n",
       "2011-01-01 04:00:00   9.756072  0.014335  "
      ]
     },
     "execution_count": 29,
     "metadata": {},
     "output_type": "execute_result"
    }
   ],
   "source": [
    "def NLD_station_rain_PET(df_path):\n",
    "    \"\"\"\n",
    "    This function returns the precipitation and PET time series given that measurements\n",
    "    of weather stations in NLD are provided\n",
    "    Input: file from KNMI for one weather station\n",
    "    Output: df with 2 columns: (1) precipitation, and (2) Penman  Evaporation\n",
    "    \"\"\"\n",
    "    weather_data=pd.read_csv(df_path, skiprows=31, skipinitialspace=True, low_memory=False)\n",
    "    cols_delete = set(weather_data.columns) - set(['# STN', 'YYYYMMDD', 'HH', 'FH', 'Q', 'RH', 'U', 'T'])\n",
    "    weather_data.drop(cols_delete, axis=1, inplace=True)\n",
    "    # The following two commands could be used in the case the columns 'YYYYMMDD' and 'HH' were float\n",
    "    # weather_data['YYYYMMDD'] = pd.to_numeric(weather_data['YYYYMMDD'], downcast='integer')\n",
    "    # weather_data['HH'] = pd.to_numeric(weather_data['HH'], downcast='integer')\n",
    "    weather_data['HH'] = weather_data['HH'] -1\n",
    "    weather_data['HH'] = weather_data['HH'].astype(str)\n",
    "    weather_data['HH'] = weather_data['HH'].str.zfill(2)\n",
    "    weather_data['combined_date'] = weather_data['YYYYMMDD'].map(str) + ':' + weather_data['HH'].map(str)\n",
    "    weather_data['combined_date'] = pd.to_datetime(weather_data['combined_date'], format='%Y%m%d:%H')\n",
    "    weather_data.set_index('combined_date', inplace=True)\n",
    "\n",
    "    # When the rainfall is <0.05 mm, -1 was assigned. In order to avod problems in the further steps, we replaced this values to 0. \n",
    "    weather_data.RH.replace(-1,0, inplace=True)\n",
    "    weather_data['RH'] = weather_data['RH']/10\n",
    "    weather_data.drop(['# STN', 'YYYYMMDD', 'HH'], axis=1, inplace=True)\n",
    "    \n",
    "    # Estimating net radiation\n",
    "    weather_data.loc[:,'FH']=weather_data.loc[:,'FH']/10 # conversion - it is provided in (in 0.1 m/s)\n",
    "    weather_data.loc[:,'T']=weather_data.loc[:,'T']/10 # conversion - it is provided in 0.1 degrees Celsius \n",
    "    # For RH (rainfall, I have already divided by 10)\n",
    "    weather_data.loc[:,'Q']=weather_data.loc[:,'Q']*10000/3600 # unit conversion J/(h cm^2) -> J/(s m^2)\n",
    "    weather_data.rename(columns={'T':'Temp'}, inplace=True)\n",
    "    weather_data['fu']=0.074*(0.5+0.54*weather_data.FH)\n",
    "    weather_data['ra']=1.205*1004/(0.066*1000*weather_data.fu)\n",
    "    weather_data['es']=0.61*np.exp(19.9*weather_data.Temp/(273+weather_data.Temp))\n",
    "    weather_data['ea']=weather_data.U/100*weather_data.es\n",
    "    weather_data['delta']=5430*weather_data.es/(273+weather_data.Temp)**2\n",
    "    weather_data['Rn'] =  0.65 * weather_data.Q\n",
    "    weather_data['G']=0.1*weather_data.Rn\n",
    "    weather_data['rholE_nom']=weather_data.delta*(weather_data.Rn-weather_data.G) +\\\n",
    "    1.205*1004/weather_data.ra*(weather_data.es - weather_data.ea)\n",
    "    weather_data['rholE_denom']=weather_data.delta + 0.066  #*(1+ weather_data.ra)\n",
    "    weather_data['rholE'] = weather_data['rholE_nom'] / weather_data['rholE_denom']\n",
    "    weather_data['E_pot_OW'] = weather_data.rholE / (2.45e6*1000) * 3600 * 1000  # result: evaporation in mm/h\n",
    "    \n",
    "    return weather_data\n",
    "\n",
    "path = r'Weather_stations_datasets\\uurgeg_210_2011-2020.txt'\n",
    "NLD_station_rain_PET(path).head()"
   ]
  },
  {
   "cell_type": "code",
   "execution_count": 35,
   "metadata": {},
   "outputs": [
    {
     "data": {
      "text/plain": [
       "<AxesSubplot:xlabel='combined_date'>"
      ]
     },
     "execution_count": 35,
     "metadata": {},
     "output_type": "execute_result"
    },
    {
     "data": {
      "image/png": "[encoded data removed]",
      "text/plain": [
       "<Figure size 432x288 with 1 Axes>"
      ]
     },
     "metadata": {
      "needs_background": "light"
     },
     "output_type": "display_data"
    }
   ],
   "source": [
    "NLD_station_rain_PET(path).E_pot_OW.plot()"
   ]
  },
  {
   "cell_type": "markdown",
   "metadata": {},
   "source": [
    "# Intro"
   ]
  },
  {
   "cell_type": "code",
   "execution_count": 5,
   "metadata": {},
   "outputs": [
    {
     "data": {
      "text/html": [
       "<div>\n",
       "<style scoped>\n",
       "    .dataframe tbody tr th:only-of-type {\n",
       "        vertical-align: middle;\n",
       "    }\n",
       "\n",
       "    .dataframe tbody tr th {\n",
       "        vertical-align: top;\n",
       "    }\n",
       "\n",
       "    .dataframe thead th {\n",
       "        text-align: right;\n",
       "    }\n",
       "</style>\n",
       "<table border=\"1\" class=\"dataframe\">\n",
       "  <thead>\n",
       "    <tr style=\"text-align: right;\">\n",
       "      <th></th>\n",
       "      <th># STN</th>\n",
       "      <th>YYYYMMDD</th>\n",
       "      <th>HH</th>\n",
       "      <th>FH</th>\n",
       "      <th>T</th>\n",
       "      <th>Q</th>\n",
       "      <th>RH</th>\n",
       "      <th>U</th>\n",
       "    </tr>\n",
       "  </thead>\n",
       "  <tbody>\n",
       "    <tr>\n",
       "      <th>0</th>\n",
       "      <td>210</td>\n",
       "      <td>20110101</td>\n",
       "      <td>1</td>\n",
       "      <td>40</td>\n",
       "      <td>49</td>\n",
       "      <td>0</td>\n",
       "      <td>-1</td>\n",
       "      <td>99</td>\n",
       "    </tr>\n",
       "    <tr>\n",
       "      <th>1</th>\n",
       "      <td>210</td>\n",
       "      <td>20110101</td>\n",
       "      <td>2</td>\n",
       "      <td>60</td>\n",
       "      <td>51</td>\n",
       "      <td>0</td>\n",
       "      <td>-1</td>\n",
       "      <td>95</td>\n",
       "    </tr>\n",
       "    <tr>\n",
       "      <th>2</th>\n",
       "      <td>210</td>\n",
       "      <td>20110101</td>\n",
       "      <td>3</td>\n",
       "      <td>60</td>\n",
       "      <td>51</td>\n",
       "      <td>0</td>\n",
       "      <td>0</td>\n",
       "      <td>92</td>\n",
       "    </tr>\n",
       "    <tr>\n",
       "      <th>3</th>\n",
       "      <td>210</td>\n",
       "      <td>20110101</td>\n",
       "      <td>4</td>\n",
       "      <td>50</td>\n",
       "      <td>49</td>\n",
       "      <td>0</td>\n",
       "      <td>0</td>\n",
       "      <td>95</td>\n",
       "    </tr>\n",
       "    <tr>\n",
       "      <th>4</th>\n",
       "      <td>210</td>\n",
       "      <td>20110101</td>\n",
       "      <td>5</td>\n",
       "      <td>50</td>\n",
       "      <td>53</td>\n",
       "      <td>0</td>\n",
       "      <td>0</td>\n",
       "      <td>91</td>\n",
       "    </tr>\n",
       "  </tbody>\n",
       "</table>\n",
       "</div>"
      ],
      "text/plain": [
       "   # STN  YYYYMMDD  HH  FH   T  Q  RH   U\n",
       "0    210  20110101   1  40  49  0  -1  99\n",
       "1    210  20110101   2  60  51  0  -1  95\n",
       "2    210  20110101   3  60  51  0   0  92\n",
       "3    210  20110101   4  50  49  0   0  95\n",
       "4    210  20110101   5  50  53  0   0  91"
      ]
     },
     "execution_count": 5,
     "metadata": {},
     "output_type": "execute_result"
    }
   ],
   "source": [
    "weather_data = NLD_station_rain_PET(path)\n",
    "\n",
    "cols_delete = set(NLD_station_rain_PET(path).columns) - set(['# STN', 'YYYYMMDD', 'HH', 'FH', 'Q', 'RH', 'U', 'T'])\n",
    "weather_data.drop(cols_delete, axis=1, inplace=True)\n",
    "weather_data.head()"
   ]
  },
  {
   "cell_type": "code",
   "execution_count": 6,
   "metadata": {},
   "outputs": [
    {
     "name": "stdout",
     "output_type": "stream",
     "text": [
      "<class 'pandas.core.frame.DataFrame'>\n",
      "RangeIndex: 46776 entries, 0 to 46775\n",
      "Data columns (total 8 columns):\n",
      " #   Column    Non-Null Count  Dtype\n",
      "---  ------    --------------  -----\n",
      " 0   # STN     46776 non-null  int64\n",
      " 1   YYYYMMDD  46776 non-null  int64\n",
      " 2   HH        46776 non-null  int64\n",
      " 3   FH        46776 non-null  int64\n",
      " 4   T         46776 non-null  int64\n",
      " 5   Q         46776 non-null  int64\n",
      " 6   RH        46776 non-null  int64\n",
      " 7   U         46776 non-null  int64\n",
      "dtypes: int64(8)\n",
      "memory usage: 2.9 MB\n"
     ]
    }
   ],
   "source": [
    "weather_data.info()"
   ]
  },
  {
   "cell_type": "code",
   "execution_count": 7,
   "metadata": {},
   "outputs": [
    {
     "data": {
      "text/plain": [
       "# STN       int64\n",
       "YYYYMMDD    int64\n",
       "HH          int64\n",
       "FH          int64\n",
       "T           int64\n",
       "Q           int64\n",
       "RH          int64\n",
       "U           int64\n",
       "dtype: object"
      ]
     },
     "execution_count": 7,
     "metadata": {},
     "output_type": "execute_result"
    }
   ],
   "source": [
    "weather_data.dtypes"
   ]
  },
  {
   "cell_type": "code",
   "execution_count": 8,
   "metadata": {},
   "outputs": [],
   "source": [
    "# weather_data.head(25)"
   ]
  },
  {
   "cell_type": "code",
   "execution_count": 9,
   "metadata": {},
   "outputs": [],
   "source": [
    "# The following two commands could be used in the case the columns 'YYYYMMDD' and 'HH' were float\n",
    "# weather_data['YYYYMMDD'] = pd.to_numeric(weather_data['YYYYMMDD'], downcast='integer')\n",
    "# weather_data['HH'] = pd.to_numeric(weather_data['HH'], downcast='integer')\n",
    "weather_data['HH'] = weather_data['HH'] -1"
   ]
  },
  {
   "cell_type": "code",
   "execution_count": 10,
   "metadata": {},
   "outputs": [
    {
     "data": {
      "text/html": [
       "<div>\n",
       "<style scoped>\n",
       "    .dataframe tbody tr th:only-of-type {\n",
       "        vertical-align: middle;\n",
       "    }\n",
       "\n",
       "    .dataframe tbody tr th {\n",
       "        vertical-align: top;\n",
       "    }\n",
       "\n",
       "    .dataframe thead th {\n",
       "        text-align: right;\n",
       "    }\n",
       "</style>\n",
       "<table border=\"1\" class=\"dataframe\">\n",
       "  <thead>\n",
       "    <tr style=\"text-align: right;\">\n",
       "      <th></th>\n",
       "      <th># STN</th>\n",
       "      <th>YYYYMMDD</th>\n",
       "      <th>HH</th>\n",
       "      <th>FH</th>\n",
       "      <th>T</th>\n",
       "      <th>Q</th>\n",
       "      <th>RH</th>\n",
       "      <th>U</th>\n",
       "    </tr>\n",
       "  </thead>\n",
       "  <tbody>\n",
       "    <tr>\n",
       "      <th>46771</th>\n",
       "      <td>210</td>\n",
       "      <td>20160502</td>\n",
       "      <td>19</td>\n",
       "      <td>40</td>\n",
       "      <td>122</td>\n",
       "      <td>0</td>\n",
       "      <td>0</td>\n",
       "      <td>84</td>\n",
       "    </tr>\n",
       "    <tr>\n",
       "      <th>46772</th>\n",
       "      <td>210</td>\n",
       "      <td>20160502</td>\n",
       "      <td>20</td>\n",
       "      <td>50</td>\n",
       "      <td>122</td>\n",
       "      <td>0</td>\n",
       "      <td>0</td>\n",
       "      <td>83</td>\n",
       "    </tr>\n",
       "    <tr>\n",
       "      <th>46773</th>\n",
       "      <td>210</td>\n",
       "      <td>20160502</td>\n",
       "      <td>21</td>\n",
       "      <td>60</td>\n",
       "      <td>124</td>\n",
       "      <td>0</td>\n",
       "      <td>0</td>\n",
       "      <td>80</td>\n",
       "    </tr>\n",
       "    <tr>\n",
       "      <th>46774</th>\n",
       "      <td>210</td>\n",
       "      <td>20160502</td>\n",
       "      <td>22</td>\n",
       "      <td>60</td>\n",
       "      <td>113</td>\n",
       "      <td>0</td>\n",
       "      <td>20</td>\n",
       "      <td>92</td>\n",
       "    </tr>\n",
       "    <tr>\n",
       "      <th>46775</th>\n",
       "      <td>210</td>\n",
       "      <td>20160502</td>\n",
       "      <td>23</td>\n",
       "      <td>50</td>\n",
       "      <td>126</td>\n",
       "      <td>22</td>\n",
       "      <td>1</td>\n",
       "      <td>86</td>\n",
       "    </tr>\n",
       "  </tbody>\n",
       "</table>\n",
       "</div>"
      ],
      "text/plain": [
       "       # STN  YYYYMMDD  HH  FH    T   Q  RH   U\n",
       "46771    210  20160502  19  40  122   0   0  84\n",
       "46772    210  20160502  20  50  122   0   0  83\n",
       "46773    210  20160502  21  60  124   0   0  80\n",
       "46774    210  20160502  22  60  113   0  20  92\n",
       "46775    210  20160502  23  50  126  22   1  86"
      ]
     },
     "execution_count": 10,
     "metadata": {},
     "output_type": "execute_result"
    }
   ],
   "source": [
    "weather_data.tail()"
   ]
  },
  {
   "cell_type": "code",
   "execution_count": 11,
   "metadata": {},
   "outputs": [],
   "source": [
    "weather_data['HH'] = weather_data['HH'].astype(str)\n",
    "weather_data['HH'] = weather_data['HH'].str.zfill(2)\n",
    "weather_data['combined_date'] = weather_data['YYYYMMDD'].map(str) + ':' + weather_data['HH'].map(str)\n",
    "weather_data['combined_date'] = pd.to_datetime(weather_data['combined_date'], format='%Y%m%d:%H')\n",
    "weather_data.set_index('combined_date', inplace=True)\n",
    "\n",
    "# When the rainfall is <0.05 mm, -1 was assigned. In order to avod problems in the further steps, we replaced this values to 0. \n",
    "weather_data.RH.replace(-1,0, inplace=True)\n",
    "weather_data['RH'] = weather_data['RH']/10"
   ]
  },
  {
   "cell_type": "code",
   "execution_count": 13,
   "metadata": {},
   "outputs": [
    {
     "data": {
      "text/plain": [
       "(46776, 8)"
      ]
     },
     "execution_count": 13,
     "metadata": {},
     "output_type": "execute_result"
    }
   ],
   "source": [
    "weather_data.shape"
   ]
  },
  {
   "cell_type": "markdown",
   "metadata": {},
   "source": [
    "Stations '248', '324', '340', and '343' were removed since there was lack of some measurements necesssary for estimation of Penman Evaporation "
   ]
  },
  {
   "cell_type": "code",
   "execution_count": 14,
   "metadata": {},
   "outputs": [
    {
     "data": {
      "text/plain": [
       "<AxesSubplot:xlabel='combined_date'>"
      ]
     },
     "execution_count": 14,
     "metadata": {},
     "output_type": "execute_result"
    },
    {
     "data": {
      "image/png": "[encoded data removed]",
      "text/plain": [
       "<Figure size 432x288 with 1 Axes>"
      ]
     },
     "metadata": {
      "needs_background": "light"
     },
     "output_type": "display_data"
    }
   ],
   "source": [
    "weather_data.RH.plot()"
   ]
  },
  {
   "cell_type": "code",
   "execution_count": 15,
   "metadata": {},
   "outputs": [],
   "source": [
    "weather_data.drop(['# STN', 'YYYYMMDD', 'HH'], axis=1, inplace=True)"
   ]
  },
  {
   "cell_type": "code",
   "execution_count": 16,
   "metadata": {},
   "outputs": [
    {
     "data": {
      "text/html": [
       "<div>\n",
       "<style scoped>\n",
       "    .dataframe tbody tr th:only-of-type {\n",
       "        vertical-align: middle;\n",
       "    }\n",
       "\n",
       "    .dataframe tbody tr th {\n",
       "        vertical-align: top;\n",
       "    }\n",
       "\n",
       "    .dataframe thead th {\n",
       "        text-align: right;\n",
       "    }\n",
       "</style>\n",
       "<table border=\"1\" class=\"dataframe\">\n",
       "  <thead>\n",
       "    <tr style=\"text-align: right;\">\n",
       "      <th></th>\n",
       "      <th>FH</th>\n",
       "      <th>T</th>\n",
       "      <th>Q</th>\n",
       "      <th>RH</th>\n",
       "      <th>U</th>\n",
       "    </tr>\n",
       "    <tr>\n",
       "      <th>combined_date</th>\n",
       "      <th></th>\n",
       "      <th></th>\n",
       "      <th></th>\n",
       "      <th></th>\n",
       "      <th></th>\n",
       "    </tr>\n",
       "  </thead>\n",
       "  <tbody>\n",
       "    <tr>\n",
       "      <th>2011-01-01 00:00:00</th>\n",
       "      <td>40</td>\n",
       "      <td>49</td>\n",
       "      <td>0</td>\n",
       "      <td>0.0</td>\n",
       "      <td>99</td>\n",
       "    </tr>\n",
       "    <tr>\n",
       "      <th>2011-01-01 01:00:00</th>\n",
       "      <td>60</td>\n",
       "      <td>51</td>\n",
       "      <td>0</td>\n",
       "      <td>0.0</td>\n",
       "      <td>95</td>\n",
       "    </tr>\n",
       "    <tr>\n",
       "      <th>2011-01-01 02:00:00</th>\n",
       "      <td>60</td>\n",
       "      <td>51</td>\n",
       "      <td>0</td>\n",
       "      <td>0.0</td>\n",
       "      <td>92</td>\n",
       "    </tr>\n",
       "    <tr>\n",
       "      <th>2011-01-01 03:00:00</th>\n",
       "      <td>50</td>\n",
       "      <td>49</td>\n",
       "      <td>0</td>\n",
       "      <td>0.0</td>\n",
       "      <td>95</td>\n",
       "    </tr>\n",
       "    <tr>\n",
       "      <th>2011-01-01 04:00:00</th>\n",
       "      <td>50</td>\n",
       "      <td>53</td>\n",
       "      <td>0</td>\n",
       "      <td>0.0</td>\n",
       "      <td>91</td>\n",
       "    </tr>\n",
       "    <tr>\n",
       "      <th>...</th>\n",
       "      <td>...</td>\n",
       "      <td>...</td>\n",
       "      <td>...</td>\n",
       "      <td>...</td>\n",
       "      <td>...</td>\n",
       "    </tr>\n",
       "    <tr>\n",
       "      <th>2016-05-02 19:00:00</th>\n",
       "      <td>40</td>\n",
       "      <td>122</td>\n",
       "      <td>0</td>\n",
       "      <td>0.0</td>\n",
       "      <td>84</td>\n",
       "    </tr>\n",
       "    <tr>\n",
       "      <th>2016-05-02 20:00:00</th>\n",
       "      <td>50</td>\n",
       "      <td>122</td>\n",
       "      <td>0</td>\n",
       "      <td>0.0</td>\n",
       "      <td>83</td>\n",
       "    </tr>\n",
       "    <tr>\n",
       "      <th>2016-05-02 21:00:00</th>\n",
       "      <td>60</td>\n",
       "      <td>124</td>\n",
       "      <td>0</td>\n",
       "      <td>0.0</td>\n",
       "      <td>80</td>\n",
       "    </tr>\n",
       "    <tr>\n",
       "      <th>2016-05-02 22:00:00</th>\n",
       "      <td>60</td>\n",
       "      <td>113</td>\n",
       "      <td>0</td>\n",
       "      <td>2.0</td>\n",
       "      <td>92</td>\n",
       "    </tr>\n",
       "    <tr>\n",
       "      <th>2016-05-02 23:00:00</th>\n",
       "      <td>50</td>\n",
       "      <td>126</td>\n",
       "      <td>22</td>\n",
       "      <td>0.1</td>\n",
       "      <td>86</td>\n",
       "    </tr>\n",
       "  </tbody>\n",
       "</table>\n",
       "<p>46776 rows × 5 columns</p>\n",
       "</div>"
      ],
      "text/plain": [
       "                     FH    T   Q   RH   U\n",
       "combined_date                            \n",
       "2011-01-01 00:00:00  40   49   0  0.0  99\n",
       "2011-01-01 01:00:00  60   51   0  0.0  95\n",
       "2011-01-01 02:00:00  60   51   0  0.0  92\n",
       "2011-01-01 03:00:00  50   49   0  0.0  95\n",
       "2011-01-01 04:00:00  50   53   0  0.0  91\n",
       "...                  ..  ...  ..  ...  ..\n",
       "2016-05-02 19:00:00  40  122   0  0.0  84\n",
       "2016-05-02 20:00:00  50  122   0  0.0  83\n",
       "2016-05-02 21:00:00  60  124   0  0.0  80\n",
       "2016-05-02 22:00:00  60  113   0  2.0  92\n",
       "2016-05-02 23:00:00  50  126  22  0.1  86\n",
       "\n",
       "[46776 rows x 5 columns]"
      ]
     },
     "execution_count": 16,
     "metadata": {},
     "output_type": "execute_result"
    }
   ],
   "source": [
    "weather_data"
   ]
  },
  {
   "cell_type": "code",
   "execution_count": 17,
   "metadata": {},
   "outputs": [],
   "source": [
    "pd.options.mode.chained_assignment = None"
   ]
  },
  {
   "cell_type": "code",
   "execution_count": 18,
   "metadata": {},
   "outputs": [
    {
     "data": {
      "text/html": [
       "<div>\n",
       "<style scoped>\n",
       "    .dataframe tbody tr th:only-of-type {\n",
       "        vertical-align: middle;\n",
       "    }\n",
       "\n",
       "    .dataframe tbody tr th {\n",
       "        vertical-align: top;\n",
       "    }\n",
       "\n",
       "    .dataframe thead th {\n",
       "        text-align: right;\n",
       "    }\n",
       "</style>\n",
       "<table border=\"1\" class=\"dataframe\">\n",
       "  <thead>\n",
       "    <tr style=\"text-align: right;\">\n",
       "      <th></th>\n",
       "      <th>FH</th>\n",
       "      <th>T</th>\n",
       "      <th>Q</th>\n",
       "      <th>RH</th>\n",
       "      <th>U</th>\n",
       "    </tr>\n",
       "    <tr>\n",
       "      <th>combined_date</th>\n",
       "      <th></th>\n",
       "      <th></th>\n",
       "      <th></th>\n",
       "      <th></th>\n",
       "      <th></th>\n",
       "    </tr>\n",
       "  </thead>\n",
       "  <tbody>\n",
       "    <tr>\n",
       "      <th>2011-01-01 00:00:00</th>\n",
       "      <td>40</td>\n",
       "      <td>49</td>\n",
       "      <td>0</td>\n",
       "      <td>0.0</td>\n",
       "      <td>99</td>\n",
       "    </tr>\n",
       "    <tr>\n",
       "      <th>2011-01-01 01:00:00</th>\n",
       "      <td>60</td>\n",
       "      <td>51</td>\n",
       "      <td>0</td>\n",
       "      <td>0.0</td>\n",
       "      <td>95</td>\n",
       "    </tr>\n",
       "    <tr>\n",
       "      <th>2011-01-01 02:00:00</th>\n",
       "      <td>60</td>\n",
       "      <td>51</td>\n",
       "      <td>0</td>\n",
       "      <td>0.0</td>\n",
       "      <td>92</td>\n",
       "    </tr>\n",
       "    <tr>\n",
       "      <th>2011-01-01 03:00:00</th>\n",
       "      <td>50</td>\n",
       "      <td>49</td>\n",
       "      <td>0</td>\n",
       "      <td>0.0</td>\n",
       "      <td>95</td>\n",
       "    </tr>\n",
       "    <tr>\n",
       "      <th>2011-01-01 04:00:00</th>\n",
       "      <td>50</td>\n",
       "      <td>53</td>\n",
       "      <td>0</td>\n",
       "      <td>0.0</td>\n",
       "      <td>91</td>\n",
       "    </tr>\n",
       "    <tr>\n",
       "      <th>...</th>\n",
       "      <td>...</td>\n",
       "      <td>...</td>\n",
       "      <td>...</td>\n",
       "      <td>...</td>\n",
       "      <td>...</td>\n",
       "    </tr>\n",
       "    <tr>\n",
       "      <th>2016-05-02 19:00:00</th>\n",
       "      <td>40</td>\n",
       "      <td>122</td>\n",
       "      <td>0</td>\n",
       "      <td>0.0</td>\n",
       "      <td>84</td>\n",
       "    </tr>\n",
       "    <tr>\n",
       "      <th>2016-05-02 20:00:00</th>\n",
       "      <td>50</td>\n",
       "      <td>122</td>\n",
       "      <td>0</td>\n",
       "      <td>0.0</td>\n",
       "      <td>83</td>\n",
       "    </tr>\n",
       "    <tr>\n",
       "      <th>2016-05-02 21:00:00</th>\n",
       "      <td>60</td>\n",
       "      <td>124</td>\n",
       "      <td>0</td>\n",
       "      <td>0.0</td>\n",
       "      <td>80</td>\n",
       "    </tr>\n",
       "    <tr>\n",
       "      <th>2016-05-02 22:00:00</th>\n",
       "      <td>60</td>\n",
       "      <td>113</td>\n",
       "      <td>0</td>\n",
       "      <td>2.0</td>\n",
       "      <td>92</td>\n",
       "    </tr>\n",
       "    <tr>\n",
       "      <th>2016-05-02 23:00:00</th>\n",
       "      <td>50</td>\n",
       "      <td>126</td>\n",
       "      <td>22</td>\n",
       "      <td>0.1</td>\n",
       "      <td>86</td>\n",
       "    </tr>\n",
       "  </tbody>\n",
       "</table>\n",
       "<p>46776 rows × 5 columns</p>\n",
       "</div>"
      ],
      "text/plain": [
       "                     FH    T   Q   RH   U\n",
       "combined_date                            \n",
       "2011-01-01 00:00:00  40   49   0  0.0  99\n",
       "2011-01-01 01:00:00  60   51   0  0.0  95\n",
       "2011-01-01 02:00:00  60   51   0  0.0  92\n",
       "2011-01-01 03:00:00  50   49   0  0.0  95\n",
       "2011-01-01 04:00:00  50   53   0  0.0  91\n",
       "...                  ..  ...  ..  ...  ..\n",
       "2016-05-02 19:00:00  40  122   0  0.0  84\n",
       "2016-05-02 20:00:00  50  122   0  0.0  83\n",
       "2016-05-02 21:00:00  60  124   0  0.0  80\n",
       "2016-05-02 22:00:00  60  113   0  2.0  92\n",
       "2016-05-02 23:00:00  50  126  22  0.1  86\n",
       "\n",
       "[46776 rows x 5 columns]"
      ]
     },
     "execution_count": 18,
     "metadata": {},
     "output_type": "execute_result"
    }
   ],
   "source": [
    "weather_data"
   ]
  },
  {
   "cell_type": "markdown",
   "metadata": {},
   "source": [
    "### Estimating Net Radiation"
   ]
  },
  {
   "cell_type": "code",
   "execution_count": 19,
   "metadata": {},
   "outputs": [],
   "source": [
    "weather_data.loc[:,'FH']=weather_data.loc[:,'FH']/10 # conversion - it is provided in (in 0.1 m/s)\n",
    "weather_data.loc[:,'T']=weather_data.loc[:,'T']/10 # conversion - it is provided in 0.1 degrees Celsius \n",
    "# For RH (rainfall, I have already divided by 10)\n",
    "weather_data.loc[:,'Q']=weather_data.loc[:,'Q']*10000/3600 # unit conversion J/(h cm^2) -> J/(s m^2)\n",
    "weather_data.rename(columns={'T':'Temp'}, inplace=True)\n",
    "weather_data['fu']=0.074*(0.5+0.54*weather_data.FH)\n",
    "weather_data['ra']=1.205*1004/(0.066*1000*weather_data.fu)\n",
    "weather_data['es']=0.61*np.exp(19.9*weather_data.Temp/(273+weather_data.Temp))\n",
    "weather_data['ea']=weather_data.U/100*weather_data.es\n",
    "weather_data['delta']=5430*weather_data.es/(273+weather_data.Temp)**2"
   ]
  },
  {
   "cell_type": "markdown",
   "metadata": {},
   "source": [
    "Add an image for Penmann equation"
   ]
  },
  {
   "cell_type": "markdown",
   "metadata": {},
   "source": [
    "SOS - add hyperlinks to the formulas"
   ]
  },
  {
   "cell_type": "markdown",
   "metadata": {},
   "source": [
    "# Energy Balance"
   ]
  },
  {
   "cell_type": "markdown",
   "metadata": {},
   "source": [
    "<img src=\"Images/Scheme-of-the-Earths-energy-budget.png\" width='600'>"
   ]
  },
  {
   "cell_type": "code",
   "execution_count": 27,
   "metadata": {},
   "outputs": [
    {
     "data": {
      "text/plain": [
       "Text(0.5, 1.0, 'Penman Evaporation')"
      ]
     },
     "execution_count": 27,
     "metadata": {},
     "output_type": "execute_result"
    },
    {
     "data": {
      "image/png": "[encoded data removed]",
      "text/plain": [
       "<Figure size 432x288 with 1 Axes>"
      ]
     },
     "metadata": {
      "needs_background": "light"
     },
     "output_type": "display_data"
    }
   ],
   "source": [
    "weather_data['Rn'] =  0.65 * weather_data.Q\n",
    "weather_data['G']=0.1*weather_data.Rn\n",
    "weather_data['rholE_nom']=weather_data.delta*(weather_data.Rn-weather_data.G) +\\\n",
    "1.205*1004/weather_data.ra*(weather_data.es - weather_data.ea)\n",
    "weather_data['rholE_denom']=weather_data.delta + 0.066  #*(1+ weather_data.ra)\n",
    "weather_data['rholE'] = weather_data['rholE_nom'] / weather_data['rholE_denom']\n",
    "weather_data['E_pot_OW'] = weather_data.rholE / (2.45e6*1000) * 3600 * 1000  # result: evaporation in mm/h\n",
    "weather_data.E_pot_OW.plot()\n",
    "plt.ylabel('mm/h')\n",
    "plt.title('Penman Evaporation')"
   ]
  },
  {
   "cell_type": "code",
   "execution_count": 23,
   "metadata": {},
   "outputs": [],
   "source": [
    "# a=0.35 #Assumption for the value of albedo"
   ]
  },
  {
   "cell_type": "code",
   "execution_count": null,
   "metadata": {},
   "outputs": [],
   "source": []
  },
  {
   "cell_type": "code",
   "execution_count": 24,
   "metadata": {},
   "outputs": [
    {
     "data": {
      "text/html": [
       "<div>\n",
       "<style scoped>\n",
       "    .dataframe tbody tr th:only-of-type {\n",
       "        vertical-align: middle;\n",
       "    }\n",
       "\n",
       "    .dataframe tbody tr th {\n",
       "        vertical-align: top;\n",
       "    }\n",
       "\n",
       "    .dataframe thead th {\n",
       "        text-align: right;\n",
       "    }\n",
       "</style>\n",
       "<table border=\"1\" class=\"dataframe\">\n",
       "  <thead>\n",
       "    <tr style=\"text-align: right;\">\n",
       "      <th></th>\n",
       "      <th>FH</th>\n",
       "      <th>Temp</th>\n",
       "      <th>Q</th>\n",
       "      <th>RH</th>\n",
       "      <th>U</th>\n",
       "      <th>fu</th>\n",
       "      <th>ra</th>\n",
       "      <th>es</th>\n",
       "      <th>ea</th>\n",
       "      <th>delta</th>\n",
       "      <th>Rn</th>\n",
       "      <th>G</th>\n",
       "      <th>rholE_nom</th>\n",
       "      <th>rholE_denom</th>\n",
       "      <th>rholE</th>\n",
       "      <th>E_pot_OW</th>\n",
       "    </tr>\n",
       "    <tr>\n",
       "      <th>combined_date</th>\n",
       "      <th></th>\n",
       "      <th></th>\n",
       "      <th></th>\n",
       "      <th></th>\n",
       "      <th></th>\n",
       "      <th></th>\n",
       "      <th></th>\n",
       "      <th></th>\n",
       "      <th></th>\n",
       "      <th></th>\n",
       "      <th></th>\n",
       "      <th></th>\n",
       "      <th></th>\n",
       "      <th></th>\n",
       "      <th></th>\n",
       "      <th></th>\n",
       "    </tr>\n",
       "  </thead>\n",
       "  <tbody>\n",
       "    <tr>\n",
       "      <th>2011-01-01 00:00:00</th>\n",
       "      <td>4.0</td>\n",
       "      <td>4.9</td>\n",
       "      <td>0.0</td>\n",
       "      <td>0.0</td>\n",
       "      <td>99</td>\n",
       "      <td>0.19684</td>\n",
       "      <td>93.124396</td>\n",
       "      <td>0.866395</td>\n",
       "      <td>0.857731</td>\n",
       "      <td>0.060917</td>\n",
       "      <td>0.0</td>\n",
       "      <td>0.0</td>\n",
       "      <td>0.112557</td>\n",
       "      <td>0.126917</td>\n",
       "      <td>0.886856</td>\n",
       "      <td>0.001303</td>\n",
       "    </tr>\n",
       "    <tr>\n",
       "      <th>2011-01-01 01:00:00</th>\n",
       "      <td>6.0</td>\n",
       "      <td>5.1</td>\n",
       "      <td>0.0</td>\n",
       "      <td>0.0</td>\n",
       "      <td>95</td>\n",
       "      <td>0.27676</td>\n",
       "      <td>66.232859</td>\n",
       "      <td>0.878661</td>\n",
       "      <td>0.834728</td>\n",
       "      <td>0.061691</td>\n",
       "      <td>0.0</td>\n",
       "      <td>0.0</td>\n",
       "      <td>0.802488</td>\n",
       "      <td>0.127691</td>\n",
       "      <td>6.284630</td>\n",
       "      <td>0.009235</td>\n",
       "    </tr>\n",
       "    <tr>\n",
       "      <th>2011-01-01 02:00:00</th>\n",
       "      <td>6.0</td>\n",
       "      <td>5.1</td>\n",
       "      <td>0.0</td>\n",
       "      <td>0.0</td>\n",
       "      <td>92</td>\n",
       "      <td>0.27676</td>\n",
       "      <td>66.232859</td>\n",
       "      <td>0.878661</td>\n",
       "      <td>0.808368</td>\n",
       "      <td>0.061691</td>\n",
       "      <td>0.0</td>\n",
       "      <td>0.0</td>\n",
       "      <td>1.283982</td>\n",
       "      <td>0.127691</td>\n",
       "      <td>10.055407</td>\n",
       "      <td>0.014775</td>\n",
       "    </tr>\n",
       "    <tr>\n",
       "      <th>2011-01-01 03:00:00</th>\n",
       "      <td>5.0</td>\n",
       "      <td>4.9</td>\n",
       "      <td>0.0</td>\n",
       "      <td>0.0</td>\n",
       "      <td>95</td>\n",
       "      <td>0.23680</td>\n",
       "      <td>77.409654</td>\n",
       "      <td>0.866395</td>\n",
       "      <td>0.823075</td>\n",
       "      <td>0.060917</td>\n",
       "      <td>0.0</td>\n",
       "      <td>0.0</td>\n",
       "      <td>0.677035</td>\n",
       "      <td>0.126917</td>\n",
       "      <td>5.334474</td>\n",
       "      <td>0.007838</td>\n",
       "    </tr>\n",
       "    <tr>\n",
       "      <th>2011-01-01 04:00:00</th>\n",
       "      <td>5.0</td>\n",
       "      <td>5.3</td>\n",
       "      <td>0.0</td>\n",
       "      <td>0.0</td>\n",
       "      <td>91</td>\n",
       "      <td>0.23680</td>\n",
       "      <td>77.409654</td>\n",
       "      <td>0.891084</td>\n",
       "      <td>0.810886</td>\n",
       "      <td>0.062473</td>\n",
       "      <td>0.0</td>\n",
       "      <td>0.0</td>\n",
       "      <td>1.253391</td>\n",
       "      <td>0.128473</td>\n",
       "      <td>9.756072</td>\n",
       "      <td>0.014335</td>\n",
       "    </tr>\n",
       "  </tbody>\n",
       "</table>\n",
       "</div>"
      ],
      "text/plain": [
       "                      FH  Temp    Q   RH   U       fu         ra        es  \\\n",
       "combined_date                                                                \n",
       "2011-01-01 00:00:00  4.0   4.9  0.0  0.0  99  0.19684  93.124396  0.866395   \n",
       "2011-01-01 01:00:00  6.0   5.1  0.0  0.0  95  0.27676  66.232859  0.878661   \n",
       "2011-01-01 02:00:00  6.0   5.1  0.0  0.0  92  0.27676  66.232859  0.878661   \n",
       "2011-01-01 03:00:00  5.0   4.9  0.0  0.0  95  0.23680  77.409654  0.866395   \n",
       "2011-01-01 04:00:00  5.0   5.3  0.0  0.0  91  0.23680  77.409654  0.891084   \n",
       "\n",
       "                           ea     delta   Rn    G  rholE_nom  rholE_denom  \\\n",
       "combined_date                                                               \n",
       "2011-01-01 00:00:00  0.857731  0.060917  0.0  0.0   0.112557     0.126917   \n",
       "2011-01-01 01:00:00  0.834728  0.061691  0.0  0.0   0.802488     0.127691   \n",
       "2011-01-01 02:00:00  0.808368  0.061691  0.0  0.0   1.283982     0.127691   \n",
       "2011-01-01 03:00:00  0.823075  0.060917  0.0  0.0   0.677035     0.126917   \n",
       "2011-01-01 04:00:00  0.810886  0.062473  0.0  0.0   1.253391     0.128473   \n",
       "\n",
       "                         rholE  E_pot_OW  \n",
       "combined_date                             \n",
       "2011-01-01 00:00:00   0.886856  0.001303  \n",
       "2011-01-01 01:00:00   6.284630  0.009235  \n",
       "2011-01-01 02:00:00  10.055407  0.014775  \n",
       "2011-01-01 03:00:00   5.334474  0.007838  \n",
       "2011-01-01 04:00:00   9.756072  0.014335  "
      ]
     },
     "execution_count": 24,
     "metadata": {},
     "output_type": "execute_result"
    }
   ],
   "source": [
    "weather_data.head()"
   ]
  },
  {
   "cell_type": "code",
   "execution_count": null,
   "metadata": {},
   "outputs": [],
   "source": []
  },
  {
   "cell_type": "code",
   "execution_count": null,
   "metadata": {},
   "outputs": [],
   "source": [
    "weather_final_V2.Q.plot()"
   ]
  },
  {
   "cell_type": "code",
   "execution_count": null,
   "metadata": {},
   "outputs": [],
   "source": [
    "weather_final_V2[\"Q\"][-500:].plot()\n",
    "plt.legend()"
   ]
  },
  {
   "cell_type": "code",
   "execution_count": null,
   "metadata": {},
   "outputs": [],
   "source": [
    "def plotling(df,col):\n",
    "    import plotly.graph_objects as go\n",
    "    x = go.Scatter(x=df.index, y=df[col])\n",
    "    fig = go.Figure(x)\n",
    "    fig.show()"
   ]
  },
  {
   "cell_type": "code",
   "execution_count": null,
   "metadata": {},
   "outputs": [],
   "source": [
    "# plotling(weather_final_V2, 'Q')"
   ]
  },
  {
   "cell_type": "code",
   "execution_count": null,
   "metadata": {},
   "outputs": [],
   "source": [
    "weather_final_V2[\"Q\"][-500:].plot()\n",
    "weather_final_V2['Rn'][-500:].plot()\n",
    "plt.legend()"
   ]
  },
  {
   "cell_type": "code",
   "execution_count": null,
   "metadata": {},
   "outputs": [],
   "source": []
  },
  {
   "cell_type": "code",
   "execution_count": null,
   "metadata": {},
   "outputs": [],
   "source": [
    "weather_final_V2.RH.plot()"
   ]
  },
  {
   "cell_type": "code",
   "execution_count": null,
   "metadata": {},
   "outputs": [],
   "source": [
    "weather_final_V2.RH.min()"
   ]
  },
  {
   "cell_type": "code",
   "execution_count": null,
   "metadata": {},
   "outputs": [],
   "source": [
    "# I changed this assigment: weather_final.loc[weather_final.Rn<=0,'Rn']=0.05    to 0\n",
    " \n",
    "#weather_final_V2.loc[weather_final_V2.Rn<=0,'Rn'] = 0\n",
    "weather_final_V2.Rn[:].plot()"
   ]
  },
  {
   "cell_type": "code",
   "execution_count": null,
   "metadata": {},
   "outputs": [],
   "source": [
    "#weather_final_V2.head()"
   ]
  },
  {
   "cell_type": "markdown",
   "metadata": {},
   "source": [
    "### Estimation of Penman Evaporation"
   ]
  },
  {
   "cell_type": "code",
   "execution_count": null,
   "metadata": {},
   "outputs": [],
   "source": []
  },
  {
   "cell_type": "code",
   "execution_count": null,
   "metadata": {},
   "outputs": [],
   "source": [
    "# Create a table / df for each station via a loop"
   ]
  },
  {
   "cell_type": "code",
   "execution_count": null,
   "metadata": {},
   "outputs": [],
   "source": [
    "weather_final_V2.index.rename('date', inplace=True)\n",
    "weather_final_V2.to_csv('PET_input_210_hourly_1988_2015.csv', columns=['P_atm','Ref.grass','E_pot_OW'])"
   ]
  },
  {
   "cell_type": "code",
   "execution_count": null,
   "metadata": {},
   "outputs": [],
   "source": []
  },
  {
   "cell_type": "code",
   "execution_count": null,
   "metadata": {},
   "outputs": [],
   "source": [
    "fig, ax = plt.subplots(figsize=(12,8))\n",
    "\n",
    "precip = weather_final_V2.P_atm.plot(label='precipitation')\n",
    "\n",
    "weather_final_V2.E_pot_OW.plot(secondary_y=True, label='Potential Evaporation')\n",
    "weather_final_V2['Ref.grass'].plot(secondary_y=True, label='grass Evaporation')\n",
    "\n",
    "plt.gca().invert_yaxis()\n",
    "fig.legend(bbox_to_anchor=(0.75, 0.5), bbox_transform=ax.transAxes)\n",
    "\n",
    "plt.ylabel('Evporation (mm\\h)')\n",
    "plt.text('2018-03-05',0.7,'Precipitation (mm\\h)', rotation=90)\n",
    "\n",
    "plt.savefig('Precip_PET_210_station.png', bbox_to_inches='tight')"
   ]
  },
  {
   "cell_type": "code",
   "execution_count": null,
   "metadata": {},
   "outputs": [],
   "source": []
  },
  {
   "cell_type": "markdown",
   "metadata": {},
   "source": [
    "### Comparison with Shiyang results in China (order of magnitude)"
   ]
  },
  {
   "cell_type": "code",
   "execution_count": null,
   "metadata": {},
   "outputs": [],
   "source": [
    "# shiyang=pd.read_csv(r'C:\\Users\\ilias\\OneDrive\\Desktop\\TU_Delft\\Graduation_Thesis\\Drought_Paper\\Urban_Water_Balance_Model\\UWBM for Ilias\\input\\ep_ts.csv', parse_dates=['date'], index_col=['date'])\n",
    "# shiyang.head()"
   ]
  },
  {
   "cell_type": "code",
   "execution_count": null,
   "metadata": {},
   "outputs": [],
   "source": [
    "# shiyang.P_atm.plot()"
   ]
  },
  {
   "cell_type": "code",
   "execution_count": null,
   "metadata": {},
   "outputs": [],
   "source": [
    "# shiyang['E_pot_OW'].plot()"
   ]
  },
  {
   "cell_type": "code",
   "execution_count": null,
   "metadata": {},
   "outputs": [],
   "source": [
    "# import plotly.graph_objects as go\n",
    "\n",
    "# e_grass=go.Scatter(x=shiyang.index, y=shiyang['Ref.grass'])\n",
    "# data=[e_grass]\n",
    "# fig=go.Figure(data)\n",
    "# fig.show()"
   ]
  }
 ],
 "metadata": {
  "kernelspec": {
   "display_name": "Python 3 (ipykernel)",
   "language": "python",
   "name": "python3"
  },
  "language_info": {
   "codemirror_mode": {
    "name": "ipython",
    "version": 3
   },
   "file_extension": ".py",
   "mimetype": "text/x-python",
   "name": "python",
   "nbconvert_exporter": "python",
   "pygments_lexer": "ipython3",
   "version": "3.8.10"
  },
  "latex_envs": {
   "LaTeX_envs_menu_present": true,
   "autoclose": false,
   "autocomplete": true,
   "bibliofile": "biblio.bib",
   "cite_by": "apalike",
   "current_citInitial": 1,
   "eqLabelWithNumbers": true,
   "eqNumInitial": 1,
   "hotkeys": {
    "equation": "Ctrl-E",
    "itemize": "Ctrl-I"
   },
   "labels_anchors": false,
   "latex_user_defs": false,
   "report_style_numbering": false,
   "user_envs_cfg": false
  },
  "varInspector": {
   "cols": {
    "lenName": 16,
    "lenType": 16,
    "lenVar": 40
   },
   "kernels_config": {
    "python": {
     "delete_cmd_postfix": "",
     "delete_cmd_prefix": "del ",
     "library": "var_list.py",
     "varRefreshCmd": "print(var_dic_list())"
    },
    "r": {
     "delete_cmd_postfix": ") ",
     "delete_cmd_prefix": "rm(",
     "library": "var_list.r",
     "varRefreshCmd": "cat(var_dic_list()) "
    }
   },
   "types_to_exclude": [
    "module",
    "function",
    "builtin_function_or_method",
    "instance",
    "_Feature"
   ],
   "window_display": false
  }
 },
 "nbformat": 4,
 "nbformat_minor": 2
}
