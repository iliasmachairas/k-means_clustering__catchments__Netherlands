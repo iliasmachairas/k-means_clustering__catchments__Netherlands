{
 "cells": [
  {
   "cell_type": "code",
   "execution_count": 1,
   "metadata": {},
   "outputs": [],
   "source": [
    "import numpy as np\n",
    "import pandas as pd\n",
    "import matplotlib.pyplot as plt\n",
    "%matplotlib inline\n",
    "from dateutil.relativedelta import relativedelta"
   ]
  },
  {
   "cell_type": "code",
   "execution_count": 2,
   "metadata": {},
   "outputs": [],
   "source": [
    "def plotling(df,col):\n",
    "    import plotly.graph_objects as go\n",
    "    x = go.Scatter(x=df.index, y=df[col])\n",
    "    fig = go.Figure(x)\n",
    "    fig.show()"
   ]
  },
  {
   "cell_type": "markdown",
   "metadata": {},
   "source": [
    "<h1> Estimating Potential Evaporatin via Penman formula"
   ]
  },
  {
   "cell_type": "markdown",
   "metadata": {},
   "source": [
    "<img src=\"Images/Scheme-of-the-Earths-energy-budget.png\" width='600'>"
   ]
  },
  {
   "cell_type": "markdown",
   "metadata": {},
   "source": [
    "In order to determine potential evaporation, Penman formula was employed. The four required measured parameters were: mean wind speed (m/s),  mean temperature ($^{o}C$), incoming radiation ($J m^{-2}$), and relative humidity (\\%). Measurements were derived by KNMI weather stations. The below mentioned formulas are based on <span style=\"color:blue\"> Allen et al. (2018)</span>. Penman Formula (\\ref{eq:Penman}) was used for the estimation of open water evaporation and is quite accurate since it is physically-based. The unit of the output is in m/s but other relevant units are used as well.\n",
    "\n",
    "\\begin{equation} \n",
    "E_{p} =\\frac{\\frac{s (R_{n}-G) }{\\rho \\lambda}+\\frac{c_{p} \\rho_{a}}{\\rho \\lambda} \\frac{\\left(e_{s}-e_{a}\\right)}{r_{a}}}{s+\\gamma} \\label{eq:Penman} \\tag{1}\n",
    "\\end{equation}\n",
    "where:\n",
    "\n",
    "$E_p$: Penman potential evaporation (m/s) <br/>\n",
    "$R_n $: net radiation on the earth's surface ($J s^{-1} m^{-2}$)  <br/>\n",
    "G: ground heat flux ($J s^{-1} m^{-2}$)<br/>\n",
    "$\\lambda$: latent heat of vaporization (2.45 MJ/kg) <br/>\n",
    "s: slope of saturation vapor pressure-temperature curve ($kPa/^{o}C$) <br/>\n",
    "$c_{p}$: specific heat of air ($1004 \\frac{J}{kg K}$) <br/>\n",
    "$\\rho_\\alpha$: density of air ($1.205 \\frac{kg}{m^{3}}$) <br/>\n",
    "$\\rho$: density of water (1000 $\\frac{kg}{m^{3}}$) <br/>\n",
    "$e_a$: actual vapor pressure in the air at 2m height (kPa) <br/>\n",
    "$e_s$: saturation vapor pressure in the air at 2m height (kPa) <br/>\n",
    "$\\gamma$: psychrometric constant (0.066 $\\frac{kPa}{^{o}C}$) <br/>\n",
    "$r_a$: aerodynamic resistance (s/m) <br/>\n",
    "    \n",
    "\n",
    "Before applying Formula $\\eqref{eq:Penman}$, the following calculations preceded. Aerodynamic resistance was estimated based on Formula $\\eqref{eq:f_u}$ and $\\eqref{eq:r_a}$, where f(u) is an intermediate parameter (${J}/{m^{2}s Pa}$), and u is wind velocity (m/s). The constants $\\rho_\\alpha$, $c_{p}$, and $\\gamma$ were defined above. In Formula $\\eqref{eq:r_a}$, the unit of $\\gamma$ was Pa and not KPa.\n",
    "\n",
    "\\begin{equation} \n",
    "    f(u) = 7.4 \\times 10^{-2} (0.5+0.54u) {\\label{eq:f_u}} \\tag{2}\n",
    "\\end{equation}\n",
    "\n",
    "\\begin{equation} {\\label{eq:r_a}}\n",
    "    r_a = \\frac{\\rho_\\alpha c_{p}}{\\gamma f(u)} \\tag{3}\n",
    "\\end{equation} \n",
    "\n",
    "\n",
    "Subsequently, saturation vapor pressure ($e_{s}$) was estimated based on Formula $\\eqref{eq:e_s}$, where T is temperature ($^{o}C$). Combining it with relative humidity (RH in \\%), the actual vapor pressure was estimated. Formula $\\eqref{eq:e_a}$. Then, the slope of \\`saturation vapor pressure' - \\`temperature' curve was calculated which showed how quickly the dew point (where condensation occurs) could be reached considering the current air temperature. The temperature in Formula (\\ref{eq:slope}) was in $^{o}$C.\n",
    "\n",
    "\\begin{equation} \n",
    "e_{s}(T)=0.61 \\exp \\left(\\frac{19,9 T}{273+T}\\right) \\label{eq:e_s} \\tag{4}\n",
    "\\end{equation}\n",
    "\n",
    "\\begin{equation} \n",
    "e_{a}(T) = \\frac{RH}{e_s} \\label{eq:e_a} \\tag{5}\n",
    "\\end{equation} \n",
    "\n",
    "\\begin{equation} \n",
    "s=\\frac{5430 e_{s}}{(273+T)^{2}}  \\label{eq:slope} \\tag{6}\n",
    "\\end{equation}\n",
    "\n",
    "One of the main parameters which determine evaporation is net radiation which can be calculated by Formula (\\ref{eq:net_radiation}) where, $R_{s, in}$ is shortwave incoming radiation, $R_{s, out}$ is shortwave reflected radiation from the Earth's surface to the atmosphere, $R_{l, in}$ is the longwave incoming radiation which is scattered from the atmosphere (mainly clouds, and greenhouse gases) back to the Earth, and $R_{l, out}$ is the longwave radiation which is not scattered back but is released into the atmosphere. Albedo (r) determines the ratio of $R_{s, out}$ to  $R_{s, in}$ and depends on brightness of the land use; it is dimensionless and varies from 0 (black surface) to 1 (white surface). However, Formula (\\ref{eq:net_radiation}) was not applied since net longwave radiation ($R_{l,n}$) was not estimated. For the calculation of $R_{l,n}$, the percentage of sunshine per hour is required but there was lack of information regarding it. Consequently, an assumption was made that $R_{n} = 0.65R_{s, in}$\n",
    "\n",
    "\\begin{equation} \n",
    "R_{n}=\\left(R_{s, i n}-R_{s, o u t}\\right)-\\left(R_{l, o u t}-R_{l, i n}\\right)=R_{s, i n}-r R_{s, i n}-R_{l, n}=(1-r) R_{s, i n}-R_{l, n} \\label{eq:net_radiation} \\tag{7}\n",
    "\\end{equation}\n",
    "\n",
    "Another assumption was applied too. Considering that cities are built by materials which absorb more radiation compared to rural environment, it was assumed that $G= 0.1 R_n$."
   ]
  },
  {
   "cell_type": "code",
   "execution_count": 3,
   "metadata": {},
   "outputs": [],
   "source": [
    "def NLD_station_rain_PET(df_path):\n",
    "    \"\"\"\n",
    "    This function returns the precipitation and PET time series given that measurements\n",
    "    of weather stations in NLD are provided\n",
    "    Input: file from KNMI for one weather station\n",
    "    Output: df with 2 columns: (1) precipitation, and (2) Penman  Evaporation\n",
    "    \"\"\"\n",
    "    weather_data=pd.read_csv(df_path, skiprows=31, skipinitialspace=True, low_memory=False)\n",
    "    cols_delete = set(weather_data.columns) - set(['# STN', 'YYYYMMDD', 'HH', 'FH', 'Q', 'RH', 'U', 'T'])\n",
    "    weather_data.drop(cols_delete, axis=1, inplace=True)\n",
    "    # The following two commands could be used in the case the columns 'YYYYMMDD' and 'HH' were float\n",
    "    # weather_data['YYYYMMDD'] = pd.to_numeric(weather_data['YYYYMMDD'], downcast='integer')\n",
    "    # weather_data['HH'] = pd.to_numeric(weather_data['HH'], downcast='integer')\n",
    "    weather_data['HH'] = weather_data['HH'] -1\n",
    "    weather_data['HH'] = weather_data['HH'].astype(str)\n",
    "    weather_data['HH'] = weather_data['HH'].str.zfill(2)\n",
    "    weather_data['combined_date'] = weather_data['YYYYMMDD'].map(str) + ':' + weather_data['HH'].map(str)\n",
    "    weather_data['combined_date'] = pd.to_datetime(weather_data['combined_date'], format='%Y%m%d:%H')\n",
    "    weather_data.set_index('combined_date', inplace=True)\n",
    "\n",
    "    # When the rainfall is <0.05 mm, -1 was assigned. In order to avod problems in the further steps, we replaced this values to 0. \n",
    "    weather_data.RH.replace(-1,0, inplace=True)\n",
    "    weather_data['RH'] = weather_data['RH']/10\n",
    "    weather_data.drop(['# STN', 'YYYYMMDD', 'HH'], axis=1, inplace=True)\n",
    "    \n",
    "    # Estimating net radiation\n",
    "    weather_data.loc[:,'FH']=weather_data.loc[:,'FH']/10 # conversion - it is provided in (in 0.1 m/s)\n",
    "    weather_data.loc[:,'T']=weather_data.loc[:,'T']/10 # conversion - it is provided in 0.1 degrees Celsius \n",
    "    # For RH (rainfall, I have already divided by 10)\n",
    "    weather_data.loc[:,'Q']=weather_data.loc[:,'Q']*10000/3600 # unit conversion J/(h cm^2) -> J/(s m^2)\n",
    "    weather_data.rename(columns={'T':'Temp'}, inplace=True)\n",
    "    weather_data['fu']=0.074*(0.5+0.54*weather_data.FH)\n",
    "    weather_data['ra']=1.205*1004/(0.066*1000*weather_data.fu)\n",
    "    weather_data['es']=0.61*np.exp(19.9*weather_data.Temp/(273+weather_data.Temp))\n",
    "    weather_data['ea']=weather_data.U/100*weather_data.es\n",
    "    weather_data['delta']=5430*weather_data.es/(273+weather_data.Temp)**2\n",
    "    # a = 0.35 - Assumption for the value of albedo\n",
    "    weather_data['Rn'] =  0.65 * weather_data.Q\n",
    "    weather_data['G']=0.1*weather_data.Rn\n",
    "    weather_data['rholE_nom']=weather_data.delta*(weather_data.Rn-weather_data.G) +\\\n",
    "    1.205*1004/weather_data.ra*(weather_data.es - weather_data.ea)\n",
    "    weather_data['rholE_denom']=weather_data.delta + 0.066  #*(1+ weather_data.ra)\n",
    "    weather_data['rholE'] = weather_data['rholE_nom'] / weather_data['rholE_denom']\n",
    "    weather_data['PET'] = weather_data.rholE / (2.45e6*1000) * 3600 * 1000  # result: evaporation in mm/h\n",
    "    \n",
    "    return weather_data"
   ]
  },
  {
   "cell_type": "markdown",
   "metadata": {},
   "source": [
    "# Testing the function - Plot"
   ]
  },
  {
   "cell_type": "markdown",
   "metadata": {},
   "source": [
    "Checking whether the function works properly using one weather dataset."
   ]
  },
  {
   "cell_type": "code",
   "execution_count": 6,
   "metadata": {},
   "outputs": [
    {
     "name": "stderr",
     "output_type": "stream",
     "text": [
      "C:\\Users\\ilias\\AppData\\Local\\Temp/ipykernel_34244/60775510.py:11: MatplotlibDeprecationWarning: savefig() got unexpected keyword argument \"bbox_to_inches\" which is no longer supported as of 3.3 and will become an error two minor releases later\n",
      "  plt.savefig('Images/Precip_PET_210_station.png', bbox_to_inches='tight')\n"
     ]
    },
    {
     "data": {
      "image/png": "[encoded data removed]",
      "text/plain": [
       "<Figure size 864x576 with 2 Axes>"
      ]
     },
     "metadata": {
      "needs_background": "light"
     },
     "output_type": "display_data"
    }
   ],
   "source": [
    "path_station_210 = r'Weather_stations_datasets\\uurgeg_210_2011-2020.txt'\n",
    "station_210 = NLD_station_rain_PET(path_station_210)\n",
    "\n",
    "fig, ax = plt.subplots(figsize=(12,8))\n",
    "precip = station_210.RH.plot(label='precipitation')\n",
    "station_210.PET.plot(secondary_y=True, label='Potential Evaporation')\n",
    "plt.gca().invert_yaxis()\n",
    "fig.legend(bbox_to_anchor=(1.28, 0.8), bbox_transform=ax.transAxes)\n",
    "plt.ylabel('Evporation (mm\\h)')\n",
    "plt.text('2010-08-05',0.5,'Precipitation (mm\\h)', rotation=90)\n",
    "plt.savefig('Images/Precip_PET_210_station.png', bbox_to_inches='tight')"
   ]
  },
  {
   "cell_type": "markdown",
   "metadata": {},
   "source": [
    "# Applying the function to all datasets"
   ]
  },
  {
   "cell_type": "markdown",
   "metadata": {},
   "source": [
    "Stations '248', '324', '340', and '343' were ignored due to lack of data."
   ]
  },
  {
   "cell_type": "code",
   "execution_count": 7,
   "metadata": {},
   "outputs": [],
   "source": [
    "import os\n",
    "cwd = os.getcwd()\n",
    "data_path = os.path.join(cwd, 'Weather_stations_datasets')"
   ]
  },
  {
   "cell_type": "code",
   "execution_count": 8,
   "metadata": {},
   "outputs": [],
   "source": [
    "import itertools\n",
    "import re\n",
    "\n",
    "cols = ['Temp', 'RH', 'PET']\n",
    "column_names = [[str(col)+'_'+str(i) for i in range(1,13)] for col in cols]\n",
    "column_names = list(itertools.chain(*column_names))\n",
    "df_array = []\n",
    "\n",
    "for i in os.listdir(data_path):\n",
    "    path_file= os.path.join(data_path, i)\n",
    "    # finding the name of weatehr station from the txt file\n",
    "    station_name = re.findall(r'\\d{3}', i)[0]\n",
    "    df_table = NLD_station_rain_PET(path_file)\n",
    "    values_Temp_RH_PET = [df_table[col].groupby(df_table.index.month).mean() for col in cols]\n",
    "    values_Temp_RH_PET = list(itertools.chain(*values_Temp_RH_PET))\n",
    "    \n",
    "    #storing the dataframes\n",
    "    df_Temp_RH_PET = (pd.DataFrame(values_Temp_RH_PET, columns=[station_name], index=column_names)).T\n",
    "    df_array.append(df_Temp_RH_PET)\n",
    "    \n",
    "df_all = pd.concat([i for i in df_array])\n",
    "df_all.to_csv('Outputs/Temp_RH_PET.csv')"
   ]
  },
  {
   "cell_type": "code",
   "execution_count": 9,
   "metadata": {},
   "outputs": [
    {
     "data": {
      "text/html": [
       "<div>\n",
       "<style scoped>\n",
       "    .dataframe tbody tr th:only-of-type {\n",
       "        vertical-align: middle;\n",
       "    }\n",
       "\n",
       "    .dataframe tbody tr th {\n",
       "        vertical-align: top;\n",
       "    }\n",
       "\n",
       "    .dataframe thead th {\n",
       "        text-align: right;\n",
       "    }\n",
       "</style>\n",
       "<table border=\"1\" class=\"dataframe\">\n",
       "  <thead>\n",
       "    <tr style=\"text-align: right;\">\n",
       "      <th></th>\n",
       "      <th>Temp_1</th>\n",
       "      <th>Temp_2</th>\n",
       "      <th>Temp_3</th>\n",
       "      <th>Temp_4</th>\n",
       "      <th>Temp_5</th>\n",
       "      <th>Temp_6</th>\n",
       "      <th>Temp_7</th>\n",
       "      <th>Temp_8</th>\n",
       "      <th>Temp_9</th>\n",
       "      <th>Temp_10</th>\n",
       "      <th>...</th>\n",
       "      <th>PET_3</th>\n",
       "      <th>PET_4</th>\n",
       "      <th>PET_5</th>\n",
       "      <th>PET_6</th>\n",
       "      <th>PET_7</th>\n",
       "      <th>PET_8</th>\n",
       "      <th>PET_9</th>\n",
       "      <th>PET_10</th>\n",
       "      <th>PET_11</th>\n",
       "      <th>PET_12</th>\n",
       "    </tr>\n",
       "  </thead>\n",
       "  <tbody>\n",
       "    <tr>\n",
       "      <th>210</th>\n",
       "      <td>4.591196</td>\n",
       "      <td>3.916593</td>\n",
       "      <td>6.054951</td>\n",
       "      <td>9.426042</td>\n",
       "      <td>12.456768</td>\n",
       "      <td>15.118639</td>\n",
       "      <td>17.675054</td>\n",
       "      <td>17.469274</td>\n",
       "      <td>15.134194</td>\n",
       "      <td>11.973817</td>\n",
       "      <td>...</td>\n",
       "      <td>0.087296</td>\n",
       "      <td>0.136959</td>\n",
       "      <td>0.167837</td>\n",
       "      <td>0.184939</td>\n",
       "      <td>0.182996</td>\n",
       "      <td>0.157209</td>\n",
       "      <td>0.116332</td>\n",
       "      <td>0.072370</td>\n",
       "      <td>0.044764</td>\n",
       "      <td>0.048319</td>\n",
       "    </tr>\n",
       "    <tr>\n",
       "      <th>215</th>\n",
       "      <td>4.752039</td>\n",
       "      <td>4.755956</td>\n",
       "      <td>6.535058</td>\n",
       "      <td>9.536366</td>\n",
       "      <td>13.148163</td>\n",
       "      <td>16.438403</td>\n",
       "      <td>18.134156</td>\n",
       "      <td>17.856624</td>\n",
       "      <td>15.165833</td>\n",
       "      <td>11.868913</td>\n",
       "      <td>...</td>\n",
       "      <td>0.091567</td>\n",
       "      <td>0.142543</td>\n",
       "      <td>0.179100</td>\n",
       "      <td>0.188126</td>\n",
       "      <td>0.193249</td>\n",
       "      <td>0.158712</td>\n",
       "      <td>0.113080</td>\n",
       "      <td>0.068831</td>\n",
       "      <td>0.043730</td>\n",
       "      <td>0.035880</td>\n",
       "    </tr>\n",
       "    <tr>\n",
       "      <th>240</th>\n",
       "      <td>4.311022</td>\n",
       "      <td>4.162647</td>\n",
       "      <td>6.489113</td>\n",
       "      <td>10.127931</td>\n",
       "      <td>13.575175</td>\n",
       "      <td>16.410014</td>\n",
       "      <td>18.275685</td>\n",
       "      <td>18.232204</td>\n",
       "      <td>15.359694</td>\n",
       "      <td>11.838602</td>\n",
       "      <td>...</td>\n",
       "      <td>0.095762</td>\n",
       "      <td>0.147835</td>\n",
       "      <td>0.184060</td>\n",
       "      <td>0.190957</td>\n",
       "      <td>0.193099</td>\n",
       "      <td>0.166895</td>\n",
       "      <td>0.118109</td>\n",
       "      <td>0.072202</td>\n",
       "      <td>0.040684</td>\n",
       "      <td>0.036675</td>\n",
       "    </tr>\n",
       "    <tr>\n",
       "      <th>249</th>\n",
       "      <td>4.101304</td>\n",
       "      <td>3.817491</td>\n",
       "      <td>5.883078</td>\n",
       "      <td>9.198569</td>\n",
       "      <td>12.818132</td>\n",
       "      <td>15.690861</td>\n",
       "      <td>17.607809</td>\n",
       "      <td>17.593253</td>\n",
       "      <td>14.808194</td>\n",
       "      <td>11.529866</td>\n",
       "      <td>...</td>\n",
       "      <td>0.089007</td>\n",
       "      <td>0.136517</td>\n",
       "      <td>0.173911</td>\n",
       "      <td>0.179716</td>\n",
       "      <td>0.182730</td>\n",
       "      <td>0.156344</td>\n",
       "      <td>0.108999</td>\n",
       "      <td>0.066546</td>\n",
       "      <td>0.037377</td>\n",
       "      <td>0.033552</td>\n",
       "    </tr>\n",
       "    <tr>\n",
       "      <th>260</th>\n",
       "      <td>4.174785</td>\n",
       "      <td>4.061852</td>\n",
       "      <td>6.489019</td>\n",
       "      <td>10.213903</td>\n",
       "      <td>13.625282</td>\n",
       "      <td>16.596403</td>\n",
       "      <td>18.327366</td>\n",
       "      <td>18.037661</td>\n",
       "      <td>14.885361</td>\n",
       "      <td>11.541478</td>\n",
       "      <td>...</td>\n",
       "      <td>0.087593</td>\n",
       "      <td>0.138157</td>\n",
       "      <td>0.169494</td>\n",
       "      <td>0.174960</td>\n",
       "      <td>0.177231</td>\n",
       "      <td>0.151530</td>\n",
       "      <td>0.105387</td>\n",
       "      <td>0.062389</td>\n",
       "      <td>0.034811</td>\n",
       "      <td>0.029026</td>\n",
       "    </tr>\n",
       "  </tbody>\n",
       "</table>\n",
       "<p>5 rows × 36 columns</p>\n",
       "</div>"
      ],
      "text/plain": [
       "       Temp_1    Temp_2    Temp_3     Temp_4     Temp_5     Temp_6     Temp_7  \\\n",
       "210  4.591196  3.916593  6.054951   9.426042  12.456768  15.118639  17.675054   \n",
       "215  4.752039  4.755956  6.535058   9.536366  13.148163  16.438403  18.134156   \n",
       "240  4.311022  4.162647  6.489113  10.127931  13.575175  16.410014  18.275685   \n",
       "249  4.101304  3.817491  5.883078   9.198569  12.818132  15.690861  17.607809   \n",
       "260  4.174785  4.061852  6.489019  10.213903  13.625282  16.596403  18.327366   \n",
       "\n",
       "        Temp_8     Temp_9    Temp_10  ...     PET_3     PET_4     PET_5  \\\n",
       "210  17.469274  15.134194  11.973817  ...  0.087296  0.136959  0.167837   \n",
       "215  17.856624  15.165833  11.868913  ...  0.091567  0.142543  0.179100   \n",
       "240  18.232204  15.359694  11.838602  ...  0.095762  0.147835  0.184060   \n",
       "249  17.593253  14.808194  11.529866  ...  0.089007  0.136517  0.173911   \n",
       "260  18.037661  14.885361  11.541478  ...  0.087593  0.138157  0.169494   \n",
       "\n",
       "        PET_6     PET_7     PET_8     PET_9    PET_10    PET_11    PET_12  \n",
       "210  0.184939  0.182996  0.157209  0.116332  0.072370  0.044764  0.048319  \n",
       "215  0.188126  0.193249  0.158712  0.113080  0.068831  0.043730  0.035880  \n",
       "240  0.190957  0.193099  0.166895  0.118109  0.072202  0.040684  0.036675  \n",
       "249  0.179716  0.182730  0.156344  0.108999  0.066546  0.037377  0.033552  \n",
       "260  0.174960  0.177231  0.151530  0.105387  0.062389  0.034811  0.029026  \n",
       "\n",
       "[5 rows x 36 columns]"
      ]
     },
     "execution_count": 9,
     "metadata": {},
     "output_type": "execute_result"
    }
   ],
   "source": [
    "df_all.head()"
   ]
  },
  {
   "cell_type": "markdown",
   "metadata": {},
   "source": [
    "# References"
   ]
  },
  {
   "cell_type": "markdown",
   "metadata": {},
   "source": [
    "Allen, R. G., Pereira, L. S., Raes, D., and Smith, M. (1998).  Fao irrigation and drainage paper no.56.Rome:  Food and Agriculture Organization of the United Nations, 56(97):e156."
   ]
  }
 ],
 "metadata": {
  "kernelspec": {
   "display_name": "Python 3 (ipykernel)",
   "language": "python",
   "name": "python3"
  },
  "language_info": {
   "codemirror_mode": {
    "name": "ipython",
    "version": 3
   },
   "file_extension": ".py",
   "mimetype": "text/x-python",
   "name": "python",
   "nbconvert_exporter": "python",
   "pygments_lexer": "ipython3",
   "version": "3.8.10"
  },
  "latex_envs": {
   "LaTeX_envs_menu_present": true,
   "autoclose": false,
   "autocomplete": true,
   "bibliofile": "biblio.bib",
   "cite_by": "apalike",
   "current_citInitial": 1,
   "eqLabelWithNumbers": true,
   "eqNumInitial": 1,
   "hotkeys": {
    "equation": "Ctrl-E",
    "itemize": "Ctrl-I"
   },
   "labels_anchors": false,
   "latex_user_defs": false,
   "report_style_numbering": false,
   "user_envs_cfg": false
  },
  "varInspector": {
   "cols": {
    "lenName": 16,
    "lenType": 16,
    "lenVar": 40
   },
   "kernels_config": {
    "python": {
     "delete_cmd_postfix": "",
     "delete_cmd_prefix": "del ",
     "library": "var_list.py",
     "varRefreshCmd": "print(var_dic_list())"
    },
    "r": {
     "delete_cmd_postfix": ") ",
     "delete_cmd_prefix": "rm(",
     "library": "var_list.r",
     "varRefreshCmd": "cat(var_dic_list()) "
    }
   },
   "types_to_exclude": [
    "module",
    "function",
    "builtin_function_or_method",
    "instance",
    "_Feature"
   ],
   "window_display": false
  }
 },
 "nbformat": 4,
 "nbformat_minor": 2
}
