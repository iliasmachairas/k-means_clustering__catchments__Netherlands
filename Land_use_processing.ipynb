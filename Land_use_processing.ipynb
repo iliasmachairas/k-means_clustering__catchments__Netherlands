{
 "cells": [
  {
   "cell_type": "code",
   "execution_count": 1,
   "id": "750a359a",
   "metadata": {},
   "outputs": [],
   "source": [
    "import pandas as pd\n",
    "import numpy as np\n",
    "import geopandas as gpd"
   ]
  },
  {
   "cell_type": "markdown",
   "id": "65191e93",
   "metadata": {},
   "source": [
    "# Importing Data"
   ]
  },
  {
   "cell_type": "code",
   "execution_count": 2,
   "id": "ba46653d",
   "metadata": {},
   "outputs": [
    {
     "data": {
      "text/plain": [
       "(1512, 6)"
      ]
     },
     "execution_count": 2,
     "metadata": {},
     "output_type": "execute_result"
    }
   ],
   "source": [
    "# Loading the dataset\n",
    "selected_basins = gpd.read_file('Outputs/Final_selected_basins.shp')\n",
    "selected_basins.shape\n",
    "\n",
    "land_use = gpd.read_file('GIS_manipulation/Clipping_land_use/land_use_selected_basins_28992.shp')\n",
    "land_use.shape"
   ]
  },
  {
   "cell_type": "code",
   "execution_count": 3,
   "id": "805b79a5",
   "metadata": {},
   "outputs": [
    {
     "data": {
      "text/plain": [
       "(29, 5)"
      ]
     },
     "execution_count": 3,
     "metadata": {},
     "output_type": "execute_result"
    }
   ],
   "source": [
    "land_use_cat = land_use.dissolve(by='Code_18')\n",
    "land_use_cat.shape"
   ]
  },
  {
   "cell_type": "code",
   "execution_count": 4,
   "id": "a405fd9e",
   "metadata": {},
   "outputs": [
    {
     "data": {
      "text/plain": [
       "Code_18       object\n",
       "geometry    geometry\n",
       "OBJECTID     float64\n",
       "Remark        object\n",
       "Area_Ha      float64\n",
       "ID            object\n",
       "dtype: object"
      ]
     },
     "execution_count": 4,
     "metadata": {},
     "output_type": "execute_result"
    }
   ],
   "source": [
    "land_use_cat.reset_index(inplace=True)\n",
    "land_use_cat.dtypes"
   ]
  },
  {
   "cell_type": "markdown",
   "id": "61c025be",
   "metadata": {},
   "source": [
    "# Dissoving similar land uses"
   ]
  },
  {
   "cell_type": "code",
   "execution_count": 5,
   "id": "996ed94a",
   "metadata": {},
   "outputs": [
    {
     "data": {
      "text/html": [
       "<div>\n",
       "<style scoped>\n",
       "    .dataframe tbody tr th:only-of-type {\n",
       "        vertical-align: middle;\n",
       "    }\n",
       "\n",
       "    .dataframe tbody tr th {\n",
       "        vertical-align: top;\n",
       "    }\n",
       "\n",
       "    .dataframe thead th {\n",
       "        text-align: right;\n",
       "    }\n",
       "</style>\n",
       "<table border=\"1\" class=\"dataframe\">\n",
       "  <thead>\n",
       "    <tr style=\"text-align: right;\">\n",
       "      <th></th>\n",
       "      <th>category</th>\n",
       "      <th>geometry</th>\n",
       "      <th>Code_18</th>\n",
       "      <th>OBJECTID</th>\n",
       "      <th>Remark</th>\n",
       "      <th>Area_Ha</th>\n",
       "      <th>ID</th>\n",
       "    </tr>\n",
       "  </thead>\n",
       "  <tbody>\n",
       "    <tr>\n",
       "      <th>0</th>\n",
       "      <td>A</td>\n",
       "      <td>MULTIPOLYGON (((125254.289 388882.660, 125332....</td>\n",
       "      <td>112</td>\n",
       "      <td>1572159.0</td>\n",
       "      <td>None</td>\n",
       "      <td>150.09128</td>\n",
       "      <td>EU_1572159</td>\n",
       "    </tr>\n",
       "    <tr>\n",
       "      <th>1</th>\n",
       "      <td>B</td>\n",
       "      <td>MULTIPOLYGON (((170587.238 371203.235, 170451....</td>\n",
       "      <td>211</td>\n",
       "      <td>1587381.0</td>\n",
       "      <td>None</td>\n",
       "      <td>15546.45780</td>\n",
       "      <td>EU_1587381</td>\n",
       "    </tr>\n",
       "    <tr>\n",
       "      <th>2</th>\n",
       "      <td>C</td>\n",
       "      <td>MULTIPOLYGON (((164282.063 375013.884, 164290....</td>\n",
       "      <td>311</td>\n",
       "      <td>1605216.0</td>\n",
       "      <td>None</td>\n",
       "      <td>46.70077</td>\n",
       "      <td>EU_1605216</td>\n",
       "    </tr>\n",
       "    <tr>\n",
       "      <th>3</th>\n",
       "      <td>D</td>\n",
       "      <td>MULTIPOLYGON (((67385.794 393660.053, 67405.51...</td>\n",
       "      <td>411</td>\n",
       "      <td>1623324.0</td>\n",
       "      <td>None</td>\n",
       "      <td>36.66414</td>\n",
       "      <td>EU_1623324</td>\n",
       "    </tr>\n",
       "    <tr>\n",
       "      <th>4</th>\n",
       "      <td>E</td>\n",
       "      <td>MULTIPOLYGON (((72242.443 391882.397, 72318.84...</td>\n",
       "      <td>511</td>\n",
       "      <td>1624911.0</td>\n",
       "      <td>None</td>\n",
       "      <td>1786.50020</td>\n",
       "      <td>EU_1624911</td>\n",
       "    </tr>\n",
       "  </tbody>\n",
       "</table>\n",
       "</div>"
      ],
      "text/plain": [
       "  category                                           geometry Code_18  \\\n",
       "0        A  MULTIPOLYGON (((125254.289 388882.660, 125332....     112   \n",
       "1        B  MULTIPOLYGON (((170587.238 371203.235, 170451....     211   \n",
       "2        C  MULTIPOLYGON (((164282.063 375013.884, 164290....     311   \n",
       "3        D  MULTIPOLYGON (((67385.794 393660.053, 67405.51...     411   \n",
       "4        E  MULTIPOLYGON (((72242.443 391882.397, 72318.84...     511   \n",
       "\n",
       "    OBJECTID Remark      Area_Ha          ID  \n",
       "0  1572159.0   None    150.09128  EU_1572159  \n",
       "1  1587381.0   None  15546.45780  EU_1587381  \n",
       "2  1605216.0   None     46.70077  EU_1605216  \n",
       "3  1623324.0   None     36.66414  EU_1623324  \n",
       "4  1624911.0   None   1786.50020  EU_1624911  "
      ]
     },
     "execution_count": 5,
     "metadata": {},
     "output_type": "execute_result"
    }
   ],
   "source": [
    "import regex\n",
    "\n",
    "land_use_cat['category'] = land_use_cat['Code_18']\n",
    "categories = ['A','B', 'C','D','E']\n",
    "values = [1, 2, 3, 4, 5]\n",
    "for i,j in zip(categories, values):\n",
    "    land_use_cat['category'].replace(str(j)+'\\d{2}', i,regex=True, inplace = True)\n",
    "land_use_cat_dis = land_use_cat.dissolve(by='category')\n",
    "land_use_cat_dis.reset_index(inplace=True)\n",
    "land_use_cat_dis"
   ]
  },
  {
   "cell_type": "code",
   "execution_count": 6,
   "id": "9e0b284a",
   "metadata": {},
   "outputs": [
    {
     "data": {
      "text/plain": [
       "<AxesSubplot:>"
      ]
     },
     "execution_count": 6,
     "metadata": {},
     "output_type": "execute_result"
    },
    {
     "data": {
      "image/png": "[encoded data removed]",
      "text/plain": [
       "<Figure size 432x288 with 1 Axes>"
      ]
     },
     "metadata": {
      "needs_background": "light"
     },
     "output_type": "display_data"
    }
   ],
   "source": [
    "land_use_cat_dis.plot(column='category', categorical=True, legend=True)"
   ]
  },
  {
   "cell_type": "code",
   "execution_count": 7,
   "id": "4bec0df5",
   "metadata": {},
   "outputs": [
    {
     "data": {
      "text/html": [
       "<div>\n",
       "<style scoped>\n",
       "    .dataframe tbody tr th:only-of-type {\n",
       "        vertical-align: middle;\n",
       "    }\n",
       "\n",
       "    .dataframe tbody tr th {\n",
       "        vertical-align: top;\n",
       "    }\n",
       "\n",
       "    .dataframe thead th {\n",
       "        text-align: right;\n",
       "    }\n",
       "</style>\n",
       "<table border=\"1\" class=\"dataframe\">\n",
       "  <thead>\n",
       "    <tr style=\"text-align: right;\">\n",
       "      <th></th>\n",
       "      <th>HYBAS_ID</th>\n",
       "      <th>geometry</th>\n",
       "    </tr>\n",
       "  </thead>\n",
       "  <tbody>\n",
       "    <tr>\n",
       "      <th>0</th>\n",
       "      <td>2120023210</td>\n",
       "      <td>MULTIPOLYGON (((5.09861 52.44583, 5.09105 52.4...</td>\n",
       "    </tr>\n",
       "    <tr>\n",
       "      <th>1</th>\n",
       "      <td>2121116060</td>\n",
       "      <td>POLYGON ((4.96250 51.78750, 4.94758 51.78785, ...</td>\n",
       "    </tr>\n",
       "    <tr>\n",
       "      <th>2</th>\n",
       "      <td>2120370440</td>\n",
       "      <td>POLYGON ((5.37917 52.19167, 5.37860 52.19388, ...</td>\n",
       "    </tr>\n",
       "    <tr>\n",
       "      <th>3</th>\n",
       "      <td>2120371920</td>\n",
       "      <td>POLYGON ((5.03750 52.22083, 5.03418 52.22168, ...</td>\n",
       "    </tr>\n",
       "    <tr>\n",
       "      <th>4</th>\n",
       "      <td>2120380390</td>\n",
       "      <td>POLYGON ((4.52083 51.91667, 4.51752 51.91752, ...</td>\n",
       "    </tr>\n",
       "  </tbody>\n",
       "</table>\n",
       "</div>"
      ],
      "text/plain": [
       "     HYBAS_ID                                           geometry\n",
       "0  2120023210  MULTIPOLYGON (((5.09861 52.44583, 5.09105 52.4...\n",
       "1  2121116060  POLYGON ((4.96250 51.78750, 4.94758 51.78785, ...\n",
       "2  2120370440  POLYGON ((5.37917 52.19167, 5.37860 52.19388, ...\n",
       "3  2120371920  POLYGON ((5.03750 52.22083, 5.03418 52.22168, ...\n",
       "4  2120380390  POLYGON ((4.52083 51.91667, 4.51752 51.91752, ..."
      ]
     },
     "execution_count": 7,
     "metadata": {},
     "output_type": "execute_result"
    }
   ],
   "source": [
    "selected_basins = selected_basins[['HYBAS_ID', 'geometry']]\n",
    "selected_basins.columns\n",
    "selected_basins.reset_index(drop=True, inplace=True)\n",
    "selected_basins.head()"
   ]
  },
  {
   "cell_type": "code",
   "execution_count": 8,
   "id": "b1810b86",
   "metadata": {},
   "outputs": [],
   "source": [
    "# loop categories\n",
    "dicts = {}\n",
    "cat_names = ['A', 'B', 'C', 'D', 'E']\n",
    "\n",
    "for key in cat_names:\n",
    "    value = land_use_cat_dis.loc[land_use_cat_dis.category==key]\n",
    "    value = value.to_crs(epsg='28992')\n",
    "    dicts[key] = value"
   ]
  },
  {
   "cell_type": "code",
   "execution_count": 9,
   "id": "5eb0de02",
   "metadata": {},
   "outputs": [],
   "source": [
    "cat_2d_table = np.zeros((selected_basins.shape[0],6))\n",
    "for idx, i in enumerate(selected_basins.iterrows()):\n",
    "    gdf_i = gpd.GeoDataFrame(pd.DataFrame(i[1:], columns =selected_basins.columns))\n",
    "    gdf_i.set_crs(epsg=28992, inplace=True)\n",
    "    # adding a loop for the five different land-use categories\n",
    "    for number, key in enumerate(cat_names):\n",
    "        area = gpd.clip(dicts[key], gdf_i).area.values\n",
    "        cat_2d_table[idx, number] = area[0] if area.size != 0 else 0\n",
    "    cat_2d_table[idx, 5] = gdf_i.HYBAS_ID"
   ]
  },
  {
   "cell_type": "markdown",
   "id": "780d24c5",
   "metadata": {},
   "source": [
    "# Estimating the percentages of different land uses"
   ]
  },
  {
   "cell_type": "code",
   "execution_count": 10,
   "id": "a4b8ef7f",
   "metadata": {},
   "outputs": [],
   "source": [
    "cat_2d_table_df = pd.DataFrame(cat_2d_table, columns=['cat_A', 'cat_B', 'cat_C', 'cat_D', 'cat_E', 'HYBAS_ID'])\n",
    "selected_basins.to_crs(epsg=28992, inplace=True)\n",
    "cat_2d_table_df['area'] = selected_basins['geometry'].area\n",
    "\n",
    "percent_names = ['perc_cat_A', 'perc_cat_B', 'perc_cat_C', 'perc_cat_D', 'perc_cat_E']\n",
    "for i,j in zip(cat_2d_table_df.columns[:-2], percent_names):\n",
    "    cat_2d_table_df[j] = cat_2d_table_df[i] / cat_2d_table_df.area\n",
    "cat_2d_table_df.drop(['cat_A', 'cat_B', 'cat_C', 'cat_D', 'cat_E'], axis=1, inplace=True)\n",
    "cat_2d_table_df['HYBAS_ID'] = cat_2d_table_df.HYBAS_ID.astype('int').astype('str');"
   ]
  },
  {
   "cell_type": "code",
   "execution_count": 11,
   "id": "6f73d848",
   "metadata": {},
   "outputs": [
    {
     "data": {
      "text/html": [
       "<div>\n",
       "<style scoped>\n",
       "    .dataframe tbody tr th:only-of-type {\n",
       "        vertical-align: middle;\n",
       "    }\n",
       "\n",
       "    .dataframe tbody tr th {\n",
       "        vertical-align: top;\n",
       "    }\n",
       "\n",
       "    .dataframe thead th {\n",
       "        text-align: right;\n",
       "    }\n",
       "</style>\n",
       "<table border=\"1\" class=\"dataframe\">\n",
       "  <thead>\n",
       "    <tr style=\"text-align: right;\">\n",
       "      <th></th>\n",
       "      <th>HYBAS_ID</th>\n",
       "      <th>area</th>\n",
       "      <th>perc_cat_A</th>\n",
       "      <th>perc_cat_B</th>\n",
       "      <th>perc_cat_C</th>\n",
       "      <th>perc_cat_D</th>\n",
       "      <th>perc_cat_E</th>\n",
       "    </tr>\n",
       "  </thead>\n",
       "  <tbody>\n",
       "    <tr>\n",
       "      <th>0</th>\n",
       "      <td>2120023210</td>\n",
       "      <td>2.878610e+08</td>\n",
       "      <td>0.0</td>\n",
       "      <td>0.0</td>\n",
       "      <td>0.0</td>\n",
       "      <td>0.0</td>\n",
       "      <td>0.0</td>\n",
       "    </tr>\n",
       "    <tr>\n",
       "      <th>1</th>\n",
       "      <td>2121116060</td>\n",
       "      <td>1.310451e+08</td>\n",
       "      <td>0.0</td>\n",
       "      <td>0.0</td>\n",
       "      <td>0.0</td>\n",
       "      <td>0.0</td>\n",
       "      <td>0.0</td>\n",
       "    </tr>\n",
       "    <tr>\n",
       "      <th>2</th>\n",
       "      <td>2120370440</td>\n",
       "      <td>1.424148e+08</td>\n",
       "      <td>0.0</td>\n",
       "      <td>0.0</td>\n",
       "      <td>0.0</td>\n",
       "      <td>0.0</td>\n",
       "      <td>0.0</td>\n",
       "    </tr>\n",
       "  </tbody>\n",
       "</table>\n",
       "</div>"
      ],
      "text/plain": [
       "     HYBAS_ID          area  perc_cat_A  perc_cat_B  perc_cat_C  perc_cat_D  \\\n",
       "0  2120023210  2.878610e+08         0.0         0.0         0.0         0.0   \n",
       "1  2121116060  1.310451e+08         0.0         0.0         0.0         0.0   \n",
       "2  2120370440  1.424148e+08         0.0         0.0         0.0         0.0   \n",
       "\n",
       "   perc_cat_E  \n",
       "0         0.0  \n",
       "1         0.0  \n",
       "2         0.0  "
      ]
     },
     "execution_count": 11,
     "metadata": {},
     "output_type": "execute_result"
    }
   ],
   "source": [
    "cat_2d_table_df.head(3)"
   ]
  }
 ],
 "metadata": {
  "kernelspec": {
   "display_name": "Python 3 (ipykernel)",
   "language": "python",
   "name": "python3"
  },
  "language_info": {
   "codemirror_mode": {
    "name": "ipython",
    "version": 3
   },
   "file_extension": ".py",
   "mimetype": "text/x-python",
   "name": "python",
   "nbconvert_exporter": "python",
   "pygments_lexer": "ipython3",
   "version": "3.8.10"
  }
 },
 "nbformat": 4,
 "nbformat_minor": 5
}
